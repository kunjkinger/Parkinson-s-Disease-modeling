{
 "cells": [
  {
   "cell_type": "code",
   "execution_count": 1,
   "id": "acc7c48e",
   "metadata": {},
   "outputs": [
    {
     "data": {
      "application/vnd.jupyter.widget-view+json": {
       "model_id": "f65a8c947daa41d3b4e27ca377756400",
       "version_major": 2,
       "version_minor": 0
      },
      "text/plain": []
     },
     "metadata": {},
     "output_type": "display_data"
    }
   ],
   "source": [
    "from Bio.Seq import Seq\n",
    "from Bio import SeqIO\n",
    "from collections import Counter\n",
    "from Bio.PDB import PDBParser\n",
    "import numpy as np\n",
    "import pandas as pd\n",
    "import re\n",
    "import matplotlib.pyplot as plt\n",
    "import seaborn as sns\n",
    "from sklearn.metrics import accuracy_score, precision_score, f1_score, recall_score,classification_report,confusion_matrix\n",
    "from statsmodels.tsa.stattools import adfuller\n",
    "from sklearn.preprocessing import MinMaxScaler\n",
    "import json\n",
    "import time\n",
    "import torch\n",
    "from torch import nn, optim\n",
    "import matplotlib.colors\n",
    "from torch.utils.data import DataLoader, Dataset\n",
    "import nglview as nv"
   ]
  },
  {
   "cell_type": "code",
   "execution_count": 2,
   "id": "b27d0c24",
   "metadata": {},
   "outputs": [],
   "source": [
    "%matplotlib inline"
   ]
  },
  {
   "cell_type": "code",
   "execution_count": 3,
   "id": "015323b4",
   "metadata": {},
   "outputs": [
    {
     "name": "stdout",
     "output_type": "stream",
     "text": [
      "ID: AF163864.1\n",
      "Name: AF163864.1\n",
      "Description: AF163864.1 Homo sapiens SNCA isoform (SNCA) gene, complete cds, alternatively spliced\n",
      "Number of features: 0\n",
      "Seq('AATTTTCCTTGAAAAACATAGATGTCCAGTTCTATCTCTCATATTTTTTCTTTT...TAG', SingleLetterAlphabet())\n"
     ]
    },
    {
     "data": {
      "text/plain": [
       "145606"
      ]
     },
     "execution_count": 3,
     "metadata": {},
     "output_type": "execute_result"
    }
   ],
   "source": [
    "for record in SeqIO.parse('alpha_synclein.fasta','fasta'):\n",
    "    alpha_syn_record = record\n",
    "    alpha_syn_dna = record.seq\n",
    "print(alpha_syn_record)\n",
    "len(alpha_syn_dna)"
   ]
  },
  {
   "cell_type": "code",
   "execution_count": 4,
   "id": "ce595f98",
   "metadata": {},
   "outputs": [
    {
     "name": "stdout",
     "output_type": "stream",
     "text": [
      "ID: AB009973.1\n",
      "Name: AB009973.1\n",
      "Description: AB009973.1 Homo sapiens parkin mRNA for Parkin, complete cds\n",
      "Number of features: 0\n",
      "Seq('TCCGGGAGGATTACCCAGGAGACCGCTGGTGGGAGGCGCGGCTGGCGCCGCTGC...AAA', SingleLetterAlphabet())\n"
     ]
    },
    {
     "data": {
      "text/plain": [
       "2960"
      ]
     },
     "execution_count": 4,
     "metadata": {},
     "output_type": "execute_result"
    }
   ],
   "source": [
    "for record in SeqIO.parse('parkin.fasta','fasta'):\n",
    "    parkin = record\n",
    "    parkin_dna = record.seq\n",
    "print(parkin)\n",
    "len(parkin_dna)"
   ]
  },
  {
   "cell_type": "code",
   "execution_count": 5,
   "id": "3056172d",
   "metadata": {},
   "outputs": [
    {
     "name": "stdout",
     "output_type": "stream",
     "text": [
      "ID: NG_008164.1\n",
      "Name: NG_008164.1\n",
      "Description: NG_008164.1 Homo sapiens PTEN induced kinase 1 (PINK1), RefSeqGene on chromosome 1; nuclear gene for mitochondrial product\n",
      "Number of features: 0\n",
      "Seq('CACAGGCCATTTGTCACTCATATTTGGCTCAGAATAAACCTCTTCAAATATTTT...TTA', SingleLetterAlphabet())\n"
     ]
    },
    {
     "data": {
      "text/plain": [
       "25057"
      ]
     },
     "execution_count": 5,
     "metadata": {},
     "output_type": "execute_result"
    }
   ],
   "source": [
    "for record in SeqIO.parse('pink1.fasta','fasta'):\n",
    "    pink = record\n",
    "    pink_dna = record.seq\n",
    "print(pink)\n",
    "len(pink_dna)"
   ]
  },
  {
   "cell_type": "code",
   "execution_count": 18,
   "id": "bf33b5d2",
   "metadata": {},
   "outputs": [],
   "source": [
    "#function with the decisions for the dot plot\n",
    "def fillMatrix(M):\n",
    "    #add window size w\n",
    "    ct = 0\n",
    "    M[0][0] = \"\"\n",
    "    for r in range(1,M.shape[0]):\n",
    "        for c in range(1,M.shape[1]):\n",
    "            if M[r][0] == M[0][c]:\n",
    "                M[r][c]= '*'\n",
    "                if r == c:\n",
    "                    ct += 1\n",
    "            else:\n",
    "                M[r][c]= \" \"\n",
    "    incorr = M.shape[0] - ct - 1\n",
    "    print('Number of aligned bases: ', ct)\n",
    "    print('Number of unaligned bases: ', incorr , '\\n')\n",
    "    \n",
    "#create and print the dot plot\n",
    "def fill_print():\n",
    "    D = np.zeros([len(sequence1)+1,len(sequence2)+1],dtype=str)\n",
    "    for r in range(0,len(sequence1)):\n",
    "        D[r+1][0] = sequence1[r:r+1]\n",
    "    for c in range(0,len(sequence2)):\n",
    "        D[0][c+1] = sequence2[c:c+1]\n",
    "    \n",
    "    fillMatrix(D)\n",
    "    print(D)\n",
    "\n",
    "def fill_plot():\n",
    "    D = np.zeros([len(sequence1)+1,len(sequence2)+1],dtype=str)\n",
    "    for r in range(0,len(sequence1)):\n",
    "        D[r+1][0] = sequence1[r:r+1]\n",
    "    for c in range(0,len(sequence2)):\n",
    "        D[0][c+1] = sequence2[c:c+1]\n",
    "    \n",
    "    fillMatrix(D)\n",
    "    print(D)\n",
    "    \n",
    "    # create a very simple color palette\n",
    "    colors = [[1,.5,.5], [1,0,0], [0,1,0], [0,0,1], [0,0,0], [0, .5, .5]]\n",
    "    cm = matplotlib.colors.ListedColormap(colors)\n",
    "    norm = matplotlib.colors.BoundaryNorm([-3,-2,-1,0,1,2,2], cm.N)\n",
    "    \n",
    "    fig,ax = plt.subplots(figsize=(10,10),dpi=70)\n",
    "    D_red = np.delete(D,0,axis=1)\n",
    "    D_red = np.delete(D_red,0,axis=0)\n",
    "    D_red_log = D_red == '*'\n",
    "    ax.imshow(D_red_log,cmap=cm,norm=norm)"
   ]
  },
  {
   "cell_type": "code",
   "execution_count": 22,
   "id": "db25aff6",
   "metadata": {},
   "outputs": [],
   "source": [
    "seq1 = alpha_syn_dna[:1000]\n",
    "seq2 = pink_dna[:1000]"
   ]
  },
  {
   "cell_type": "code",
   "execution_count": 23,
   "id": "b5ea0bc5",
   "metadata": {},
   "outputs": [
    {
     "name": "stdout",
     "output_type": "stream",
     "text": [
      "Number of aligned bases:  278\n",
      "Number of unaligned bases:  722 \n",
      "\n",
      "[['' 'C' 'A' ... 'G' 'A' 'A']\n",
      " ['A' ' ' '*' ... ' ' '*' '*']\n",
      " ['A' ' ' '*' ... ' ' '*' '*']\n",
      " ...\n",
      " ['G' ' ' ' ' ... '*' ' ' ' ']\n",
      " ['A' ' ' '*' ... ' ' '*' '*']\n",
      " ['A' ' ' '*' ... ' ' '*' '*']]\n"
     ]
    }
   ],
   "source": [
    "sequence1 = str(seq1)\n",
    "sequence2 = str(seq2)\n",
    "\n",
    "fill_print()"
   ]
  },
  {
   "cell_type": "code",
   "execution_count": 24,
   "id": "55f90d21",
   "metadata": {},
   "outputs": [
    {
     "name": "stdout",
     "output_type": "stream",
     "text": [
      "Number of aligned bases:  278\n",
      "Number of unaligned bases:  722 \n",
      "\n",
      "[['' 'C' 'A' ... 'G' 'A' 'A']\n",
      " ['A' ' ' '*' ... ' ' '*' '*']\n",
      " ['A' ' ' '*' ... ' ' '*' '*']\n",
      " ...\n",
      " ['G' ' ' ' ' ... '*' ' ' ' ']\n",
      " ['A' ' ' '*' ... ' ' '*' '*']\n",
      " ['A' ' ' '*' ... ' ' '*' '*']]\n"
     ]
    },
    {
     "data": {
      "image/png": "[encoded data removed]",
      "text/plain": [
       "<Figure size 700x700 with 1 Axes>"
      ]
     },
     "metadata": {
      "needs_background": "light"
     },
     "output_type": "display_data"
    }
   ],
   "source": [
    "sequence1 = str(seq1)\n",
    "sequence2 = str(seq2)\n",
    "\n",
    "fill_plot()"
   ]
  },
  {
   "cell_type": "code",
   "execution_count": 26,
   "id": "26733ca7",
   "metadata": {},
   "outputs": [
    {
     "name": "stdout",
     "output_type": "stream",
     "text": [
      "Number of aligned bases:  244\n",
      "Number of unaligned bases:  756 \n",
      "\n",
      "[['' 'C' 'A' ... 'G' 'A' 'A']\n",
      " ['T' ' ' ' ' ... ' ' ' ' ' ']\n",
      " ['C' '*' ' ' ... ' ' ' ' ' ']\n",
      " ...\n",
      " ['A' ' ' '*' ... ' ' '*' '*']\n",
      " ['G' ' ' ' ' ... '*' ' ' ' ']\n",
      " ['A' ' ' '*' ... ' ' '*' '*']]\n",
      "Number of aligned bases:  244\n",
      "Number of unaligned bases:  756 \n",
      "\n",
      "[['' 'C' 'A' ... 'G' 'A' 'A']\n",
      " ['T' ' ' ' ' ... ' ' ' ' ' ']\n",
      " ['C' '*' ' ' ... ' ' ' ' ' ']\n",
      " ...\n",
      " ['A' ' ' '*' ... ' ' '*' '*']\n",
      " ['G' ' ' ' ' ... '*' ' ' ' ']\n",
      " ['A' ' ' '*' ... ' ' '*' '*']]\n"
     ]
    },
    {
     "data": {
      "image/png": "[encoded data removed]",
      "text/plain": [
       "<Figure size 700x700 with 1 Axes>"
      ]
     },
     "metadata": {
      "needs_background": "light"
     },
     "output_type": "display_data"
    }
   ],
   "source": [
    "seq1 = parkin_dna[:1000]\n",
    "seq2 = pink_dna[:1000]\n",
    "\n",
    "sequence1 = str(seq1)\n",
    "sequence2 = str(seq2)\n",
    "\n",
    "fill_print()\n",
    "\n",
    "\n",
    "fill_plot()"
   ]
  },
  {
   "cell_type": "code",
   "execution_count": 27,
   "id": "737de841",
   "metadata": {},
   "outputs": [
    {
     "name": "stdout",
     "output_type": "stream",
     "text": [
      "Number of aligned bases:  228\n",
      "Number of unaligned bases:  772 \n",
      "\n",
      "[['' 'A' 'A' ... 'G' 'A' 'A']\n",
      " ['T' ' ' ' ' ... ' ' ' ' ' ']\n",
      " ['C' ' ' ' ' ... ' ' ' ' ' ']\n",
      " ...\n",
      " ['A' '*' '*' ... ' ' '*' '*']\n",
      " ['G' ' ' ' ' ... '*' ' ' ' ']\n",
      " ['A' '*' '*' ... ' ' '*' '*']]\n",
      "Number of aligned bases:  228\n",
      "Number of unaligned bases:  772 \n",
      "\n",
      "[['' 'A' 'A' ... 'G' 'A' 'A']\n",
      " ['T' ' ' ' ' ... ' ' ' ' ' ']\n",
      " ['C' ' ' ' ' ... ' ' ' ' ' ']\n",
      " ...\n",
      " ['A' '*' '*' ... ' ' '*' '*']\n",
      " ['G' ' ' ' ' ... '*' ' ' ' ']\n",
      " ['A' '*' '*' ... ' ' '*' '*']]\n"
     ]
    },
    {
     "data": {
      "image/png": "[encoded data removed]",
      "text/plain": [
       "<Figure size 700x700 with 1 Axes>"
      ]
     },
     "metadata": {
      "needs_background": "light"
     },
     "output_type": "display_data"
    }
   ],
   "source": [
    "seq1 = parkin_dna[:1000]\n",
    "seq2 = alpha_syn_dna[:1000]\n",
    "\n",
    "sequence1 = str(seq1)\n",
    "sequence2 = str(seq2)\n",
    "\n",
    "fill_print()\n",
    "\n",
    "\n",
    "fill_plot()"
   ]
  },
  {
   "cell_type": "code",
   "execution_count": null,
   "id": "ec65a24c",
   "metadata": {},
   "outputs": [],
   "source": []
  }
 ],
 "metadata": {
  "kernelspec": {
   "display_name": "Python 3",
   "language": "python",
   "name": "python3"
  },
  "language_info": {
   "codemirror_mode": {
    "name": "ipython",
    "version": 3
   },
   "file_extension": ".py",
   "mimetype": "text/x-python",
   "name": "python",
   "nbconvert_exporter": "python",
   "pygments_lexer": "ipython3",
   "version": "3.7.9"
  }
 },
 "nbformat": 4,
 "nbformat_minor": 5
}
