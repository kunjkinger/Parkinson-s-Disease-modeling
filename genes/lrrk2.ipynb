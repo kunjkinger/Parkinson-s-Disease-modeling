{
 "cells": [
  {
   "cell_type": "code",
   "execution_count": 1,
   "id": "9305d92d-eaac-4f1e-bf23-53bb7c2bc561",
   "metadata": {},
   "outputs": [],
   "source": [
    "from Bio.Seq import Seq\n",
    "from Bio import SeqIO\n",
    "from collections import Counter\n",
    "from Bio.PDB import PDBParser\n",
    "import numpy as np\n",
    "import pandas as pd\n"
   ]
  },
  {
   "cell_type": "code",
   "execution_count": 2,
   "id": "031691d6-7dbf-48e0-94e3-e3f497f6116c",
   "metadata": {},
   "outputs": [],
   "source": [
    "import re\n",
    "import matplotlib.pyplot as plt\n",
    "import seaborn as sns\n",
    "from sklearn.metrics import accuracy_score, precision_score, f1_score, recall_score,classification_report,confusion_matrix\n",
    "from statsmodels.tsa.stattools import adfuller\n",
    "from sklearn.preprocessing import MinMaxScaler"
   ]
  },
  {
   "cell_type": "code",
   "execution_count": 3,
   "id": "870a4729-9cef-4dfb-8517-dcf8e7819596",
   "metadata": {},
   "outputs": [
    {
     "data": {
      "application/vnd.jupyter.widget-view+json": {
       "model_id": "727e330338914bd1befd7a0bfe870a81",
       "version_major": 2,
       "version_minor": 0
      },
      "text/plain": []
     },
     "metadata": {},
     "output_type": "display_data"
    }
   ],
   "source": [
    "import nglview as nv"
   ]
  },
  {
   "cell_type": "code",
   "execution_count": 7,
   "id": "a0c0cb35-1ed0-408a-b338-ca7f0e6c9363",
   "metadata": {},
   "outputs": [
    {
     "data": {
      "text/plain": [
       "'C:\\\\Users\\\\kunjk\\\\OneDrive\\\\Desktop\\\\project\\\\dataset\\\\genes'"
      ]
     },
     "execution_count": 7,
     "metadata": {},
     "output_type": "execute_result"
    }
   ],
   "source": [
    "pwd"
   ]
  },
  {
   "cell_type": "code",
   "execution_count": 9,
   "id": "740b4ba0-e135-4bf7-84c5-31a2260ad8c8",
   "metadata": {},
   "outputs": [
    {
     "name": "stdout",
     "output_type": "stream",
     "text": [
      "ID: NM_198578.4\n",
      "Name: NM_198578.4\n",
      "Description: NM_198578.4 Homo sapiens leucine rich repeat kinase 2 (LRRK2), mRNA\n",
      "Number of features: 0\n",
      "Seq('GGGGCCCGCGGGGAGCGCTGGCTGCGGGCGGTGAGCTGAGCTCGCCCCCGGGGA...AAA', SingleLetterAlphabet())\n"
     ]
    }
   ],
   "source": [
    "for record in SeqIO.parse('lrrk2.fasta','fasta'):\n",
    "    lrrk2_record = record\n",
    "    lrrk2_dna = record.seq\n",
    "print(lrrk2_record)"
   ]
  },
  {
   "cell_type": "code",
   "execution_count": 11,
   "id": "e6ca4792-2622-4495-b77e-d611a6f1c0f1",
   "metadata": {},
   "outputs": [
    {
     "data": {
      "text/plain": [
       "9239"
      ]
     },
     "execution_count": 11,
     "metadata": {},
     "output_type": "execute_result"
    }
   ],
   "source": [
    "len(lrrk2_dna)"
   ]
  },
  {
   "cell_type": "code",
   "execution_count": 12,
   "id": "102d534a-61ba-4323-a045-8dd034d3bbe8",
   "metadata": {},
   "outputs": [
    {
     "data": {
      "text/plain": [
       "Seq('GGGGCCCGCGGGGAGCGCUGGCUGCGGGCGGUGAGCUGAGCUCGCCCCCGGGGA...AAA', RNAAlphabet())"
      ]
     },
     "execution_count": 12,
     "metadata": {},
     "output_type": "execute_result"
    }
   ],
   "source": [
    "mrna_lrrk2 = lrrk2_dna.transcribe()\n",
    "mrna_lrrk2"
   ]
  },
  {
   "cell_type": "code",
   "execution_count": 14,
   "id": "0806276e-fabb-42c8-82b8-a8ae6f22d497",
   "metadata": {},
   "outputs": [
    {
     "name": "stderr",
     "output_type": "stream",
     "text": [
      "C:\\Users\\kunjk\\kunj\\lib\\site-packages\\Bio\\Seq.py:2859: BiopythonWarning: Partial codon, len(sequence) not a multiple of three. Explicitly trim the sequence or add trailing N before translation. This may become an error in future.\n",
      "  BiopythonWarning,\n"
     ]
    },
    {
     "data": {
      "text/plain": [
       "(3079,\n",
       " Seq('GARGERWLRAVS*ARPRGAVAGAPAGSLSSGRSCWEGGGLEAGATMASGSCQGC...KTL', HasStopCodon(ExtendedIUPACProtein(), '*')))"
      ]
     },
     "execution_count": 14,
     "metadata": {},
     "output_type": "execute_result"
    }
   ],
   "source": [
    "protein_lrrk2 = mrna_lrrk2.translate()\n",
    "## * here is a stop codon\n",
    "\n",
    "len(protein_lrrk2),protein_lrrk2"
   ]
  },
  {
   "cell_type": "code",
   "execution_count": 15,
   "id": "f77dc0e5-7538-4edc-8ec2-6fa9d192f5cf",
   "metadata": {},
   "outputs": [
    {
     "data": {
      "text/plain": [
       "[Seq('GARGERWLRAVS', HasStopCodon(ExtendedIUPACProtein(), '*')),\n",
       " Seq('ARPRGAVAGAPAGSLSSGRSCWEGGGLEAGATMASGSCQGCEEDEETLKKLIVR...SVE', HasStopCodon(ExtendedIUPACProtein(), '*')),\n",
       " Seq('ERNRNCLWIGKLFSPLVNIYFKNVHMERVLTFFEIARVYEGMLLFLI', HasStopCodon(ExtendedIUPACProtein(), '*')),\n",
       " Seq('IYVKILTSKCVF', HasStopCodon(ExtendedIUPACProtein(), '*')),\n",
       " Seq('RTI', HasStopCodon(ExtendedIUPACProtein(), '*')),\n",
       " Seq('NTMLYFL', HasStopCodon(ExtendedIUPACProtein(), '*')),\n",
       " Seq('IPVTFVH', HasStopCodon(ExtendedIUPACProtein(), '*')),\n",
       " Seq('LMKINL', HasStopCodon(ExtendedIUPACProtein(), '*')),\n",
       " Seq('ST', HasStopCodon(ExtendedIUPACProtein(), '*')),\n",
       " Seq('FKYSY', HasStopCodon(ExtendedIUPACProtein(), '*')),\n",
       " Seq('NL', HasStopCodon(ExtendedIUPACProtein(), '*')),\n",
       " Seq('GR', HasStopCodon(ExtendedIUPACProtein(), '*')),\n",
       " Seq('FFVFLSVMEVNFILNSVLKTGLLLVDFSRNLHGIMKILRQFPM', HasStopCodon(ExtendedIUPACProtein(), '*')),\n",
       " Seq('CIPS', HasStopCodon(ExtendedIUPACProtein(), '*')),\n",
       " Seq('IASKCTIIYACKYSNEFALIKSFVGM', HasStopCodon(ExtendedIUPACProtein(), '*')),\n",
       " Seq('ILFVAVANSASYTTSLNSKENSIKSTNEKT', HasStopCodon(ExtendedIUPACProtein(), '*')),\n",
       " Seq('HTVKVLISRKDTETLFVTETLCVFPRHNRVVFQLYV', HasStopCodon(ExtendedIUPACProtein(), '*')),\n",
       " Seq('MWIP', HasStopCodon(ExtendedIUPACProtein(), '*')),\n",
       " Seq('ILYN', HasStopCodon(ExtendedIUPACProtein(), '*')),\n",
       " Seq('CKYSVQSFK', HasStopCodon(ExtendedIUPACProtein(), '*')),\n",
       " Seq('YFYFFIHTTSYLFSNLLHSNAYIHLFPKFVMLQILHHSDRNLFFFQNYRIPQLLPRP', HasStopCodon(ExtendedIUPACProtein(), '*')),\n",
       " Seq('G', HasStopCodon(ExtendedIUPACProtein(), '*')),\n",
       " Seq('ISNTFQLLKEKGALVMMDKNICHPRLPNYT', HasStopCodon(ExtendedIUPACProtein(), '*')),\n",
       " Seq('IVYIAYHNRSIRAKYLCNNLRSFLL', HasStopCodon(ExtendedIUPACProtein(), '*')),\n",
       " Seq('EKYFR', HasStopCodon(ExtendedIUPACProtein(), '*')),\n",
       " Seq('ILWP', HasStopCodon(ExtendedIUPACProtein(), '*')),\n",
       " Seq('PVFIISDNSL', HasStopCodon(ExtendedIUPACProtein(), '*')),\n",
       " Seq('', HasStopCodon(ExtendedIUPACProtein(), '*')),\n",
       " Seq('DN', HasStopCodon(ExtendedIUPACProtein(), '*')),\n",
       " Seq('YI', HasStopCodon(ExtendedIUPACProtein(), '*')),\n",
       " Seq('YSQNLWHFTM', HasStopCodon(ExtendedIUPACProtein(), '*')),\n",
       " Seq('KL', HasStopCodon(ExtendedIUPACProtein(), '*')),\n",
       " Seq('IYLY', HasStopCodon(ExtendedIUPACProtein(), '*')),\n",
       " Seq('G', HasStopCodon(ExtendedIUPACProtein(), '*')),\n",
       " Seq('SNS', HasStopCodon(ExtendedIUPACProtein(), '*')),\n",
       " Seq('R', HasStopCodon(ExtendedIUPACProtein(), '*')),\n",
       " Seq('KIFCILKEAML', HasStopCodon(ExtendedIUPACProtein(), '*')),\n",
       " Seq('LVM', HasStopCodon(ExtendedIUPACProtein(), '*')),\n",
       " Seq('LTKKSYIIELFVPVLSLSLLLCICNFFYQRQIKKMNTIFKWNNKGFLKTL', HasStopCodon(ExtendedIUPACProtein(), '*'))]"
      ]
     },
     "execution_count": 15,
     "metadata": {},
     "output_type": "execute_result"
    }
   ],
   "source": [
    "#finding all amino acids sequence before stop codon\n",
    "lrrk2_aa= protein_lrrk2.split('*')\n",
    "lrrk2_aa"
   ]
  },
  {
   "cell_type": "code",
   "execution_count": 16,
   "id": "61e50b51-ff63-427b-90d1-9df8ab64ca2d",
   "metadata": {},
   "outputs": [
    {
     "data": {
      "text/plain": [
       "['GARGERWLRAVS',\n",
       " 'ARPRGAVAGAPAGSLSSGRSCWEGGGLEAGATMASGSCQGCEEDEETLKKLIVRLNNVQEGKQIETLVQILEDLLVFTYSERASKLFQGKNIHVPLLIVLDSYMRVASVQQVGWSLLCKLIEVCPGTMQSLMGPQDVGNDWEVLGVHQLILKMLTVHNASVNLSVIGLKTLDLLLTSGKITLLILDEESDIFMLIFDAMHSFPANDEVQKLGCKALHVLFERVSEEQLTEFVENKDYMILLSALTNFKDEEEIVLHVLHCLHSLAIPCNNVEVLMSGNVRCYNIVVEAMKAFPMSERIQEVSCCLLHRLTLGNFFNILVLNEVHEFVVKAVQQYPENAALQISALSCLALLTETIFLNQDLEEKNENQENDDEGEEDKLFWLEACYKALTWHRKNKHVQEAACWALNNLLMYQNSLHEKIGDEDGHFPAHREVMLSMLMHSSSKEVFQASANALSTLLEQNVNFRKILLSKGIHLNVLELMQKHIHSPEVAESGCKMLNHLFEGSNTSLDIMAAVVPKILTVMKRHETSLPVQLEALRAILHFIVPGMPEESREDTEFHHKLNMVKKQCFKNDIHKLVLAALNRFIGNPGIQKCGLKVISSIVHFPDALEMLSLEGAMDSVLHTLQMYPDDQEIQCLGLSLIGYLITKKNVFIGTGHLLAKILVSSLYRFKDVAEIQTKGFQTILAILKLSASFSKLLVHHSFDLVIFHQMSSNIMEQKDQQFLNLCCKCFAKVAMDDYLKNVMLERACDQNNSIMVECLLLLGADANQAKEGSSLICQVCEKESSPKLVELLLNSGSREQDVRKALTISIGKGDSQIISLLLRRLALDVANNSICLGGFCIGKVEPSWLGPLFPDKTSNLRKQTNIASTLARMVIRYQMKSAVEEGTASGSDGNFSEDVLSKFDEWTFIPDSSMDSVFAQSDDLDSEGSEGSFLVKKKSNSISVGEFYRDAVLQRCSPNLQRHSNSLGPIFDHEDLLKRKRKILSSDDSLRSSKLQSHMRHSDSISSLASEREYITSLDLSANELRDIDALSQKCCISVHLEHLEKLELHQNALTSFPQQLCETLKSLTHLDLHSNKFTSFPSYLLKMSCIANLDVSRNDIGPSVVLDPTVKCPTLKQFNLSYNQLSFVPENLTDVVEKLEQLILEGNKISGICSPLRLKELKILNLSKNHISSLSENFLEACPKVESFSARMNFLAAMPFLPPSMTILKLSQNKFSCIPEAILNLPHLRSLDMSSNDIQYLPGPAHWKSLNLRELLFSHNQISILDLSEKAYLWSRVEKLHLSHNKLKEIPPEIGCLENLTSLDVSYNLELRSFPNEMGKLSKIWDLPLDELHLNFDFKHIGCKAKDIIRFLQQRLKKAVPYNRMKLMIVGNTGSGKTTLLQQLMKTKKSDLGMQSATVGIDVKDWPIQIRDKRKRDLVLNVWDFAGREEFYSTHPHFMTQRALYLAVYDLSKGQAEVDAMKPWLFNIKARASSSPVILVGTHLDVSDEKQRKACMSKITKELLNKRGFPAIRDYHFVNATEESDALAKLRKTIINESLNFKIRDQLVVGQLIPDCYVELEKIILSERKNVPIEFPVIDRKRLLQLVRENQLQLDENELPHAVHFLNESGVLLHFQDPALQLSDLYFVEPKWLCKIMAQILTVKVEGCPKHPKGIISRRDVEKFLSKKRKFPKNYMSQYFKLLEKFQIALPIGEEYLLVPSSLSDHRPVIELPHCENSEIIIRLYEMPYFPMGFWSRLINRLLEISPYMLSGRERALRPNRMYWRQGIYLNWSPEAYCLVGSEVLDNHPESFLKITVPSCRKGCILLGQVVDHIDSLMEEWFPGLLEIDICGEGETLLKKWALYSFNDGEEHQKILLDDLMKKAEEGDLLVNPDQPRLTIPISQIAPDLILADLPRNIMLNNDELEFEQAPEFLLGDGSFGSVYRAAYEGEEVAVKIFNKHTSLRLLRQELVVLCHLHHPSLISLLAAGIRPRMLVMELASKGSLDRLLQQDKASLTRTLQHRIALHVADGLRYLHSAMIIYRDLKPHNVLLFTLYPNAAIIAKIADYGIAQYCCRMGIKTSEGTPGFRAPEVARGNVIYNQQADVYSFGLLLYDILTTGGRIVEGLKFPNEFDELEIQGKLPDPVKEYGCAPWPMVEKLIKQCLKENPQERPTSAQVFDILNSAELVCLTRRILLPKNVIVECMVATHHNSRNASIWLGCGHTDRGQLSFLDLNTEGYTSEEVADSRILCLALVHLPVEKESWIVSGTQSGTLLVINTEDGKKRHTLEKMTDSVTCLYCNSFSKQSKQKNFLLVGTADGKLAIFEDKTVKLKGAAPLKILNIGNVSTPLMCLSESTNSTERNVMWGGCGTKIFSFSNDFTIQKLIETRTSQLFSYAAFSDSNIITVVVDTALYIAKQNSPVVEVWDKKTEKLCGLIDCVHFLREVMVKENKESKHKMSYSGRVKTLCLQKNTALWIGTGGGHILLLDLSTRRLIRVIYNFCNSVRVMMTAQLGSLKNVMLVLGYNRKNTEGTQKQKEIQSCLTVWDINLPHEVQNLEKHIEVRKELAEKMRRTSVE',\n",
       " 'ERNRNCLWIGKLFSPLVNIYFKNVHMERVLTFFEIARVYEGMLLFLI',\n",
       " 'IYVKILTSKCVF',\n",
       " 'RTI',\n",
       " 'NTMLYFL',\n",
       " 'IPVTFVH',\n",
       " 'LMKINL',\n",
       " 'ST',\n",
       " 'FKYSY',\n",
       " 'NL',\n",
       " 'GR',\n",
       " 'FFVFLSVMEVNFILNSVLKTGLLLVDFSRNLHGIMKILRQFPM',\n",
       " 'CIPS',\n",
       " 'IASKCTIIYACKYSNEFALIKSFVGM',\n",
       " 'ILFVAVANSASYTTSLNSKENSIKSTNEKT',\n",
       " 'HTVKVLISRKDTETLFVTETLCVFPRHNRVVFQLYV',\n",
       " 'MWIP',\n",
       " 'ILYN',\n",
       " 'CKYSVQSFK',\n",
       " 'YFYFFIHTTSYLFSNLLHSNAYIHLFPKFVMLQILHHSDRNLFFFQNYRIPQLLPRP',\n",
       " 'G',\n",
       " 'ISNTFQLLKEKGALVMMDKNICHPRLPNYT',\n",
       " 'IVYIAYHNRSIRAKYLCNNLRSFLL',\n",
       " 'EKYFR',\n",
       " 'ILWP',\n",
       " 'PVFIISDNSL',\n",
       " '',\n",
       " 'DN',\n",
       " 'YI',\n",
       " 'YSQNLWHFTM',\n",
       " 'KL',\n",
       " 'IYLY',\n",
       " 'G',\n",
       " 'SNS',\n",
       " 'R',\n",
       " 'KIFCILKEAML',\n",
       " 'LVM',\n",
       " 'LTKKSYIIELFVPVLSLSLLLCICNFFYQRQIKKMNTIFKWNNKGFLKTL']"
      ]
     },
     "execution_count": 16,
     "metadata": {},
     "output_type": "execute_result"
    }
   ],
   "source": [
    "lrrk2_aa_string = [str(i) for i in lrrk2_aa]\n",
    "lrrk2_aa_string"
   ]
  },
  {
   "cell_type": "code",
   "execution_count": 17,
   "id": "3f2a6581-815d-400d-8cfb-99f4b58056d7",
   "metadata": {},
   "outputs": [
    {
     "data": {
      "text/html": [
       "<div>\n",
       "<style scoped>\n",
       "    .dataframe tbody tr th:only-of-type {\n",
       "        vertical-align: middle;\n",
       "    }\n",
       "\n",
       "    .dataframe tbody tr th {\n",
       "        vertical-align: top;\n",
       "    }\n",
       "\n",
       "    .dataframe thead th {\n",
       "        text-align: right;\n",
       "    }\n",
       "</style>\n",
       "<table border=\"1\" class=\"dataframe\">\n",
       "  <thead>\n",
       "    <tr style=\"text-align: right;\">\n",
       "      <th></th>\n",
       "      <th>amino_acids</th>\n",
       "    </tr>\n",
       "  </thead>\n",
       "  <tbody>\n",
       "    <tr>\n",
       "      <th>0</th>\n",
       "      <td>GARGERWLRAVS</td>\n",
       "    </tr>\n",
       "    <tr>\n",
       "      <th>1</th>\n",
       "      <td>ARPRGAVAGAPAGSLSSGRSCWEGGGLEAGATMASGSCQGCEEDEE...</td>\n",
       "    </tr>\n",
       "    <tr>\n",
       "      <th>2</th>\n",
       "      <td>ERNRNCLWIGKLFSPLVNIYFKNVHMERVLTFFEIARVYEGMLLFLI</td>\n",
       "    </tr>\n",
       "    <tr>\n",
       "      <th>3</th>\n",
       "      <td>IYVKILTSKCVF</td>\n",
       "    </tr>\n",
       "    <tr>\n",
       "      <th>4</th>\n",
       "      <td>RTI</td>\n",
       "    </tr>\n",
       "  </tbody>\n",
       "</table>\n",
       "</div>"
      ],
      "text/plain": [
       "                                         amino_acids\n",
       "0                                       GARGERWLRAVS\n",
       "1  ARPRGAVAGAPAGSLSSGRSCWEGGGLEAGATMASGSCQGCEEDEE...\n",
       "2    ERNRNCLWIGKLFSPLVNIYFKNVHMERVLTFFEIARVYEGMLLFLI\n",
       "3                                       IYVKILTSKCVF\n",
       "4                                                RTI"
      ]
     },
     "execution_count": 17,
     "metadata": {},
     "output_type": "execute_result"
    }
   ],
   "source": [
    "#converting amino acids in to pandas\n",
    "amino = pd.DataFrame({'amino_acids':lrrk2_aa_string})\n",
    "amino.head()"
   ]
  },
  {
   "cell_type": "code",
   "execution_count": 18,
   "id": "30965598-552e-4ae5-bc07-5e41362b3795",
   "metadata": {},
   "outputs": [
    {
     "data": {
      "text/html": [
       "<div>\n",
       "<style scoped>\n",
       "    .dataframe tbody tr th:only-of-type {\n",
       "        vertical-align: middle;\n",
       "    }\n",
       "\n",
       "    .dataframe tbody tr th {\n",
       "        vertical-align: top;\n",
       "    }\n",
       "\n",
       "    .dataframe thead th {\n",
       "        text-align: right;\n",
       "    }\n",
       "</style>\n",
       "<table border=\"1\" class=\"dataframe\">\n",
       "  <thead>\n",
       "    <tr style=\"text-align: right;\">\n",
       "      <th></th>\n",
       "      <th>amino_acids</th>\n",
       "      <th>count</th>\n",
       "    </tr>\n",
       "  </thead>\n",
       "  <tbody>\n",
       "    <tr>\n",
       "      <th>0</th>\n",
       "      <td>GARGERWLRAVS</td>\n",
       "      <td>12</td>\n",
       "    </tr>\n",
       "    <tr>\n",
       "      <th>1</th>\n",
       "      <td>ARPRGAVAGAPAGSLSSGRSCWEGGGLEAGATMASGSCQGCEEDEE...</td>\n",
       "      <td>2559</td>\n",
       "    </tr>\n",
       "    <tr>\n",
       "      <th>2</th>\n",
       "      <td>ERNRNCLWIGKLFSPLVNIYFKNVHMERVLTFFEIARVYEGMLLFLI</td>\n",
       "      <td>47</td>\n",
       "    </tr>\n",
       "    <tr>\n",
       "      <th>3</th>\n",
       "      <td>IYVKILTSKCVF</td>\n",
       "      <td>12</td>\n",
       "    </tr>\n",
       "    <tr>\n",
       "      <th>4</th>\n",
       "      <td>RTI</td>\n",
       "      <td>3</td>\n",
       "    </tr>\n",
       "  </tbody>\n",
       "</table>\n",
       "</div>"
      ],
      "text/plain": [
       "                                         amino_acids  count\n",
       "0                                       GARGERWLRAVS     12\n",
       "1  ARPRGAVAGAPAGSLSSGRSCWEGGGLEAGATMASGSCQGCEEDEE...   2559\n",
       "2    ERNRNCLWIGKLFSPLVNIYFKNVHMERVLTFFEIARVYEGMLLFLI     47\n",
       "3                                       IYVKILTSKCVF     12\n",
       "4                                                RTI      3"
      ]
     },
     "execution_count": 18,
     "metadata": {},
     "output_type": "execute_result"
    }
   ],
   "source": [
    "amino['count'] = amino['amino_acids'].str.len()\n",
    "amino.head()"
   ]
  },
  {
   "cell_type": "code",
   "execution_count": 19,
   "id": "d1a0ab4e-6465-4c9a-a9cd-14a74f2b134c",
   "metadata": {},
   "outputs": [
    {
     "data": {
      "text/html": [
       "<div>\n",
       "<style scoped>\n",
       "    .dataframe tbody tr th:only-of-type {\n",
       "        vertical-align: middle;\n",
       "    }\n",
       "\n",
       "    .dataframe tbody tr th {\n",
       "        vertical-align: top;\n",
       "    }\n",
       "\n",
       "    .dataframe thead th {\n",
       "        text-align: right;\n",
       "    }\n",
       "</style>\n",
       "<table border=\"1\" class=\"dataframe\">\n",
       "  <thead>\n",
       "    <tr style=\"text-align: right;\">\n",
       "      <th></th>\n",
       "      <th>amino_acids</th>\n",
       "      <th>count</th>\n",
       "    </tr>\n",
       "  </thead>\n",
       "  <tbody>\n",
       "    <tr>\n",
       "      <th>1</th>\n",
       "      <td>ARPRGAVAGAPAGSLSSGRSCWEGGGLEAGATMASGSCQGCEEDEE...</td>\n",
       "      <td>2559</td>\n",
       "    </tr>\n",
       "    <tr>\n",
       "      <th>20</th>\n",
       "      <td>YFYFFIHTTSYLFSNLLHSNAYIHLFPKFVMLQILHHSDRNLFFFQ...</td>\n",
       "      <td>57</td>\n",
       "    </tr>\n",
       "    <tr>\n",
       "      <th>38</th>\n",
       "      <td>LTKKSYIIELFVPVLSLSLLLCICNFFYQRQIKKMNTIFKWNNKGF...</td>\n",
       "      <td>50</td>\n",
       "    </tr>\n",
       "    <tr>\n",
       "      <th>2</th>\n",
       "      <td>ERNRNCLWIGKLFSPLVNIYFKNVHMERVLTFFEIARVYEGMLLFLI</td>\n",
       "      <td>47</td>\n",
       "    </tr>\n",
       "    <tr>\n",
       "      <th>12</th>\n",
       "      <td>FFVFLSVMEVNFILNSVLKTGLLLVDFSRNLHGIMKILRQFPM</td>\n",
       "      <td>43</td>\n",
       "    </tr>\n",
       "    <tr>\n",
       "      <th>16</th>\n",
       "      <td>HTVKVLISRKDTETLFVTETLCVFPRHNRVVFQLYV</td>\n",
       "      <td>36</td>\n",
       "    </tr>\n",
       "    <tr>\n",
       "      <th>15</th>\n",
       "      <td>ILFVAVANSASYTTSLNSKENSIKSTNEKT</td>\n",
       "      <td>30</td>\n",
       "    </tr>\n",
       "    <tr>\n",
       "      <th>22</th>\n",
       "      <td>ISNTFQLLKEKGALVMMDKNICHPRLPNYT</td>\n",
       "      <td>30</td>\n",
       "    </tr>\n",
       "    <tr>\n",
       "      <th>14</th>\n",
       "      <td>IASKCTIIYACKYSNEFALIKSFVGM</td>\n",
       "      <td>26</td>\n",
       "    </tr>\n",
       "    <tr>\n",
       "      <th>23</th>\n",
       "      <td>IVYIAYHNRSIRAKYLCNNLRSFLL</td>\n",
       "      <td>25</td>\n",
       "    </tr>\n",
       "  </tbody>\n",
       "</table>\n",
       "</div>"
      ],
      "text/plain": [
       "                                          amino_acids  count\n",
       "1   ARPRGAVAGAPAGSLSSGRSCWEGGGLEAGATMASGSCQGCEEDEE...   2559\n",
       "20  YFYFFIHTTSYLFSNLLHSNAYIHLFPKFVMLQILHHSDRNLFFFQ...     57\n",
       "38  LTKKSYIIELFVPVLSLSLLLCICNFFYQRQIKKMNTIFKWNNKGF...     50\n",
       "2     ERNRNCLWIGKLFSPLVNIYFKNVHMERVLTFFEIARVYEGMLLFLI     47\n",
       "12        FFVFLSVMEVNFILNSVLKTGLLLVDFSRNLHGIMKILRQFPM     43\n",
       "16               HTVKVLISRKDTETLFVTETLCVFPRHNRVVFQLYV     36\n",
       "15                     ILFVAVANSASYTTSLNSKENSIKSTNEKT     30\n",
       "22                     ISNTFQLLKEKGALVMMDKNICHPRLPNYT     30\n",
       "14                         IASKCTIIYACKYSNEFALIKSFVGM     26\n",
       "23                          IVYIAYHNRSIRAKYLCNNLRSFLL     25"
      ]
     },
     "execution_count": 19,
     "metadata": {},
     "output_type": "execute_result"
    }
   ],
   "source": [
    "#largest sequence before stop codon\n",
    "amino.nlargest(10,'count') "
   ]
  },
  {
   "cell_type": "code",
   "execution_count": 21,
   "id": "465a4a61-bb43-4077-901a-b2f777e3bbb8",
   "metadata": {},
   "outputs": [
    {
     "data": {
      "text/plain": [
       "[('L', 422),\n",
       " ('S', 245),\n",
       " ('K', 210),\n",
       " ('I', 203),\n",
       " ('E', 201),\n",
       " ('V', 193),\n",
       " ('N', 163),\n",
       " ('A', 148),\n",
       " ('G', 139),\n",
       " ('F', 138)]"
      ]
     },
     "execution_count": 21,
     "metadata": {},
     "output_type": "execute_result"
    }
   ],
   "source": [
    "#finding the most common proteins in with the frequency available in the sequence\n",
    "Counter(protein_lrrk2).most_common(10)"
   ]
  },
  {
   "cell_type": "code",
   "execution_count": 22,
   "id": "85d702f3-3d80-4889-9011-7cdb370ff0db",
   "metadata": {},
   "outputs": [
    {
     "name": "stderr",
     "output_type": "stream",
     "text": [
      "C:\\Users\\kunjk\\kunj\\lib\\site-packages\\seaborn\\distributions.py:2557: FutureWarning: `distplot` is a deprecated function and will be removed in a future version. Please adapt your code to use either `displot` (a figure-level function with similar flexibility) or `histplot` (an axes-level function for histograms).\n",
      "  warnings.warn(msg, FutureWarning)\n"
     ]
    },
    {
     "data": {
      "image/png": "[encoded data removed]",
      "text/plain": [
       "<Figure size 432x288 with 1 Axes>"
      ]
     },
     "metadata": {
      "image/png": {
       "height": 270,
       "width": 417
      }
     },
     "output_type": "display_data"
    }
   ],
   "source": [
    "%matplotlib inline\n",
    "%config InlineBackend.figure_format='retina'\n",
    "sns.set(style='whitegrid',palette='muted',font_scale=1.2)\n",
    "ax = sns.distplot(amino['count'].values)\n",
    "plt.title(f'sequence length distribution')\n",
    "plt.grid(True) "
   ]
  },
  {
   "cell_type": "code",
   "execution_count": 23,
   "id": "c6aacdff-5dda-4209-ae58-dea2952da5e5",
   "metadata": {},
   "outputs": [],
   "source": [
    "amino.to_csv('lrrk2.csv',sep=',')"
   ]
  },
  {
   "cell_type": "code",
   "execution_count": null,
   "id": "a4872b43-7923-4817-9be9-38b7cde38f4f",
   "metadata": {},
   "outputs": [],
   "source": []
  }
 ],
 "metadata": {
  "kernelspec": {
   "display_name": "Python 3",
   "language": "python",
   "name": "python3"
  },
  "language_info": {
   "codemirror_mode": {
    "name": "ipython",
    "version": 3
   },
   "file_extension": ".py",
   "mimetype": "text/x-python",
   "name": "python",
   "nbconvert_exporter": "python",
   "pygments_lexer": "ipython3",
   "version": "3.7.9"
  }
 },
 "nbformat": 4,
 "nbformat_minor": 5
}
