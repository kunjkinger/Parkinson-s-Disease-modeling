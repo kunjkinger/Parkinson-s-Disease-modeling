{
 "cells": [
  {
   "cell_type": "code",
   "execution_count": 18,
   "id": "20fc427c-2f4b-4680-ba1f-c4fdd5b85fcd",
   "metadata": {},
   "outputs": [],
   "source": [
    "from Bio.Seq import Seq\n",
    "from Bio import SeqIO\n",
    "from collections import Counter\n",
    "from Bio.PDB import PDBParser\n",
    "import numpy as np\n",
    "import pandas as pd\n",
    "import re\n",
    "import matplotlib.pyplot as plt\n",
    "import seaborn as sns\n",
    "from sklearn.metrics import accuracy_score, precision_score, f1_score, recall_score,classification_report,confusion_matrix\n",
    "from statsmodels.tsa.stattools import adfuller\n",
    "from sklearn.preprocessing import MinMaxScaler\n",
    "import json\n",
    "import time\n",
    "import torch\n",
    "from torch import nn, optim\n",
    "from torch.utils.data import DataLoader, Dataset\n",
    "import nglview as nv\n",
    "import os\n",
    "import sklearn"
   ]
  },
  {
   "cell_type": "code",
   "execution_count": 19,
   "id": "40070892-1a4a-4058-bd53-4e6c7505642d",
   "metadata": {},
   "outputs": [],
   "source": [
    "datadir = 'C:\\\\Users\\\\kunjk\\\\OneDrive\\\\Desktop\\\\project\\\\dataset\\\\genes'"
   ]
  },
  {
   "cell_type": "code",
   "execution_count": 20,
   "id": "b2b71c56-fe7f-4be1-90f6-27621ce4ac34",
   "metadata": {},
   "outputs": [],
   "source": [
    "aa = os.listdir(datadir)[1]"
   ]
  },
  {
   "cell_type": "code",
   "execution_count": 21,
   "id": "fc86d7d4-282c-4f50-8ef3-d36bbfc33184",
   "metadata": {},
   "outputs": [
    {
     "data": {
      "text/plain": [
       "'alpha_synclein.fasta'"
      ]
     },
     "execution_count": 21,
     "metadata": {},
     "output_type": "execute_result"
    }
   ],
   "source": [
    "aa"
   ]
  },
  {
   "cell_type": "code",
   "execution_count": 22,
   "id": "4b44e6a7-a840-428c-abf6-c056d01e62bf",
   "metadata": {},
   "outputs": [],
   "source": [
    "df = pd.read_excel('C:\\\\Users\\\\kunjk\\\\OneDrive\\\\Desktop\\\\project\\\\dataset\\\\genes\\\\aminoacids.xlsx')"
   ]
  },
  {
   "cell_type": "code",
   "execution_count": 23,
   "id": "5b6c1a18-df9a-4487-83bd-5e26ce6992f4",
   "metadata": {},
   "outputs": [
    {
     "data": {
      "text/html": [
       "<div>\n",
       "<style scoped>\n",
       "    .dataframe tbody tr th:only-of-type {\n",
       "        vertical-align: middle;\n",
       "    }\n",
       "\n",
       "    .dataframe tbody tr th {\n",
       "        vertical-align: top;\n",
       "    }\n",
       "\n",
       "    .dataframe thead th {\n",
       "        text-align: right;\n",
       "    }\n",
       "</style>\n",
       "<table border=\"1\" class=\"dataframe\">\n",
       "  <thead>\n",
       "    <tr style=\"text-align: right;\">\n",
       "      <th></th>\n",
       "      <th>amino_acids</th>\n",
       "      <th>count</th>\n",
       "      <th>location</th>\n",
       "      <th>gene</th>\n",
       "    </tr>\n",
       "  </thead>\n",
       "  <tbody>\n",
       "    <tr>\n",
       "      <th>0</th>\n",
       "      <td>NFP</td>\n",
       "      <td>3</td>\n",
       "      <td>neural tissue</td>\n",
       "      <td>SNCA</td>\n",
       "    </tr>\n",
       "    <tr>\n",
       "      <th>1</th>\n",
       "      <td>KT</td>\n",
       "      <td>2</td>\n",
       "      <td>neural tissue</td>\n",
       "      <td>SNCA</td>\n",
       "    </tr>\n",
       "    <tr>\n",
       "      <th>2</th>\n",
       "      <td>MSSSISHIFSFHRDMAL</td>\n",
       "      <td>17</td>\n",
       "      <td>neural tissue</td>\n",
       "      <td>SNCA</td>\n",
       "    </tr>\n",
       "    <tr>\n",
       "      <th>3</th>\n",
       "      <td>D</td>\n",
       "      <td>1</td>\n",
       "      <td>neural tissue</td>\n",
       "      <td>SNCA</td>\n",
       "    </tr>\n",
       "    <tr>\n",
       "      <th>4</th>\n",
       "      <td>FKLQTAEKCKITVA</td>\n",
       "      <td>14</td>\n",
       "      <td>neural tissue</td>\n",
       "      <td>SNCA</td>\n",
       "    </tr>\n",
       "  </tbody>\n",
       "</table>\n",
       "</div>"
      ],
      "text/plain": [
       "         amino_acids  count       location  gene\n",
       "0                NFP      3  neural tissue  SNCA\n",
       "1                 KT      2  neural tissue  SNCA\n",
       "2  MSSSISHIFSFHRDMAL     17  neural tissue  SNCA\n",
       "3                  D      1  neural tissue  SNCA\n",
       "4     FKLQTAEKCKITVA     14  neural tissue  SNCA"
      ]
     },
     "execution_count": 23,
     "metadata": {},
     "output_type": "execute_result"
    }
   ],
   "source": [
    "df.head()"
   ]
  },
  {
   "cell_type": "code",
   "execution_count": 24,
   "id": "dc6b8f3f-abc6-47df-8a61-3d9a381804ee",
   "metadata": {},
   "outputs": [
    {
     "name": "stdout",
     "output_type": "stream",
     "text": [
      "<class 'pandas.core.frame.DataFrame'>\n",
      "RangeIndex: 3271 entries, 0 to 3270\n",
      "Data columns (total 4 columns):\n",
      " #   Column       Non-Null Count  Dtype \n",
      "---  ------       --------------  ----- \n",
      " 0   amino_acids  3073 non-null   object\n",
      " 1   count        3271 non-null   int64 \n",
      " 2   location     3271 non-null   object\n",
      " 3   gene         3271 non-null   object\n",
      "dtypes: int64(1), object(3)\n",
      "memory usage: 102.3+ KB\n"
     ]
    }
   ],
   "source": [
    "df.info()"
   ]
  },
  {
   "cell_type": "code",
   "execution_count": 25,
   "id": "1e402aed-8b06-423a-ac93-c85a7b5dcf8c",
   "metadata": {},
   "outputs": [
    {
     "data": {
      "text/plain": [
       "amino_acids    198\n",
       "count            0\n",
       "location         0\n",
       "gene             0\n",
       "dtype: int64"
      ]
     },
     "execution_count": 25,
     "metadata": {},
     "output_type": "execute_result"
    }
   ],
   "source": [
    "df.isnull().sum()"
   ]
  },
  {
   "cell_type": "code",
   "execution_count": 26,
   "id": "cbe727bc-95ff-495b-856e-7c1614697d7d",
   "metadata": {},
   "outputs": [
    {
     "data": {
      "text/plain": [
       "3271"
      ]
     },
     "execution_count": 26,
     "metadata": {},
     "output_type": "execute_result"
    }
   ],
   "source": [
    "len(df)"
   ]
  },
  {
   "cell_type": "code",
   "execution_count": 27,
   "id": "7fa2e1d9-88f3-4bd1-b76f-27d4edd5e2d6",
   "metadata": {},
   "outputs": [],
   "source": [
    "df.dropna(inplace=True)"
   ]
  },
  {
   "cell_type": "code",
   "execution_count": 28,
   "id": "fd2e0b26-a034-4f4c-8f60-a100a5367c01",
   "metadata": {},
   "outputs": [
    {
     "data": {
      "text/plain": [
       "amino_acids    0\n",
       "count          0\n",
       "location       0\n",
       "gene           0\n",
       "dtype: int64"
      ]
     },
     "execution_count": 28,
     "metadata": {},
     "output_type": "execute_result"
    }
   ],
   "source": [
    "df.isnull().sum()"
   ]
  },
  {
   "cell_type": "code",
   "execution_count": 29,
   "id": "94b5f77b-bc0c-4f7c-9065-b30f3f09a1e2",
   "metadata": {},
   "outputs": [
    {
     "name": "stderr",
     "output_type": "stream",
     "text": [
      "C:\\Users\\kunjk\\kunj\\lib\\site-packages\\seaborn\\distributions.py:2557: FutureWarning: `distplot` is a deprecated function and will be removed in a future version. Please adapt your code to use either `displot` (a figure-level function with similar flexibility) or `histplot` (an axes-level function for histograms).\n",
      "  warnings.warn(msg, FutureWarning)\n"
     ]
    },
    {
     "data": {
      "image/png": "[encoded data removed]",
      "text/plain": [
       "<Figure size 432x288 with 1 Axes>"
      ]
     },
     "metadata": {
      "image/png": {
       "height": 269,
       "width": 401
      }
     },
     "output_type": "display_data"
    }
   ],
   "source": [
    "%matplotlib inline\n",
    "%config InlineBackend.figure_format='retina'\n",
    "sns.set(style='whitegrid',palette='muted',font_scale=1.2)\n",
    "ax = sns.distplot(df['count'].values,bins=20)\n",
    "ax.set_xlim(-10,160)\n",
    "plt.title(f'sequence length distribution')\n",
    "plt.grid(True) \n",
    "#mostly data covered with in the range of 40"
   ]
  },
  {
   "cell_type": "code",
   "execution_count": 30,
   "id": "1aa93f43-87f9-4694-9e71-607cb40b8def",
   "metadata": {},
   "outputs": [
    {
     "data": {
      "text/plain": [
       "Index(['amino_acids', 'count', 'location', 'gene'], dtype='object')"
      ]
     },
     "execution_count": 30,
     "metadata": {},
     "output_type": "execute_result"
    }
   ],
   "source": [
    "df.columns"
   ]
  },
  {
   "cell_type": "code",
   "execution_count": 31,
   "id": "01e4ec66-41d8-4194-b186-fbd5c53bdd09",
   "metadata": {},
   "outputs": [
    {
     "name": "stdout",
     "output_type": "stream",
     "text": [
      "Index(['mitochondria', 'neural tissue', 'outer membrane of mitchondria'], dtype='object')\n"
     ]
    }
   ],
   "source": [
    "categories = df.location.astype('category').cat\n",
    "df['location'] = categories.codes\n",
    "class_name = categories.categories\n",
    "num_classes = len(class_name)\n",
    "print(class_name)"
   ]
  },
  {
   "cell_type": "code",
   "execution_count": 32,
   "id": "c950dff4-5954-487e-bd8d-bad0bbc8f127",
   "metadata": {},
   "outputs": [
    {
     "data": {
      "text/html": [
       "<div>\n",
       "<style scoped>\n",
       "    .dataframe tbody tr th:only-of-type {\n",
       "        vertical-align: middle;\n",
       "    }\n",
       "\n",
       "    .dataframe tbody tr th {\n",
       "        vertical-align: top;\n",
       "    }\n",
       "\n",
       "    .dataframe thead th {\n",
       "        text-align: right;\n",
       "    }\n",
       "</style>\n",
       "<table border=\"1\" class=\"dataframe\">\n",
       "  <thead>\n",
       "    <tr style=\"text-align: right;\">\n",
       "      <th></th>\n",
       "      <th>amino_acids</th>\n",
       "      <th>count</th>\n",
       "      <th>location</th>\n",
       "      <th>gene</th>\n",
       "    </tr>\n",
       "  </thead>\n",
       "  <tbody>\n",
       "    <tr>\n",
       "      <th>0</th>\n",
       "      <td>NFP</td>\n",
       "      <td>3</td>\n",
       "      <td>1</td>\n",
       "      <td>SNCA</td>\n",
       "    </tr>\n",
       "    <tr>\n",
       "      <th>1</th>\n",
       "      <td>KT</td>\n",
       "      <td>2</td>\n",
       "      <td>1</td>\n",
       "      <td>SNCA</td>\n",
       "    </tr>\n",
       "    <tr>\n",
       "      <th>2</th>\n",
       "      <td>MSSSISHIFSFHRDMAL</td>\n",
       "      <td>17</td>\n",
       "      <td>1</td>\n",
       "      <td>SNCA</td>\n",
       "    </tr>\n",
       "    <tr>\n",
       "      <th>3</th>\n",
       "      <td>D</td>\n",
       "      <td>1</td>\n",
       "      <td>1</td>\n",
       "      <td>SNCA</td>\n",
       "    </tr>\n",
       "    <tr>\n",
       "      <th>4</th>\n",
       "      <td>FKLQTAEKCKITVA</td>\n",
       "      <td>14</td>\n",
       "      <td>1</td>\n",
       "      <td>SNCA</td>\n",
       "    </tr>\n",
       "  </tbody>\n",
       "</table>\n",
       "</div>"
      ],
      "text/plain": [
       "         amino_acids  count  location  gene\n",
       "0                NFP      3         1  SNCA\n",
       "1                 KT      2         1  SNCA\n",
       "2  MSSSISHIFSFHRDMAL     17         1  SNCA\n",
       "3                  D      1         1  SNCA\n",
       "4     FKLQTAEKCKITVA     14         1  SNCA"
      ]
     },
     "execution_count": 32,
     "metadata": {},
     "output_type": "execute_result"
    }
   ],
   "source": [
    "df.head()"
   ]
  },
  {
   "cell_type": "code",
   "execution_count": 33,
   "id": "dd14fced-fc5f-4f00-b624-fe782ca5a49a",
   "metadata": {},
   "outputs": [
    {
     "name": "stdout",
     "output_type": "stream",
     "text": [
      "Index(['SNCA', 'parkin', 'pink1'], dtype='object')\n"
     ]
    }
   ],
   "source": [
    "categories = df.gene.astype('category').cat\n",
    "df['gene'] = categories.codes\n",
    "class_name = categories.categories\n",
    "num_classes = len(class_name)\n",
    "print(class_name)"
   ]
  },
  {
   "cell_type": "code",
   "execution_count": 34,
   "id": "c554f296-4ad6-4a12-bc8a-e288123fffdc",
   "metadata": {},
   "outputs": [
    {
     "data": {
      "text/html": [
       "<div>\n",
       "<style scoped>\n",
       "    .dataframe tbody tr th:only-of-type {\n",
       "        vertical-align: middle;\n",
       "    }\n",
       "\n",
       "    .dataframe tbody tr th {\n",
       "        vertical-align: top;\n",
       "    }\n",
       "\n",
       "    .dataframe thead th {\n",
       "        text-align: right;\n",
       "    }\n",
       "</style>\n",
       "<table border=\"1\" class=\"dataframe\">\n",
       "  <thead>\n",
       "    <tr style=\"text-align: right;\">\n",
       "      <th></th>\n",
       "      <th>amino_acids</th>\n",
       "      <th>count</th>\n",
       "      <th>location</th>\n",
       "      <th>gene</th>\n",
       "    </tr>\n",
       "  </thead>\n",
       "  <tbody>\n",
       "    <tr>\n",
       "      <th>0</th>\n",
       "      <td>NFP</td>\n",
       "      <td>3</td>\n",
       "      <td>1</td>\n",
       "      <td>0</td>\n",
       "    </tr>\n",
       "    <tr>\n",
       "      <th>1</th>\n",
       "      <td>KT</td>\n",
       "      <td>2</td>\n",
       "      <td>1</td>\n",
       "      <td>0</td>\n",
       "    </tr>\n",
       "    <tr>\n",
       "      <th>2</th>\n",
       "      <td>MSSSISHIFSFHRDMAL</td>\n",
       "      <td>17</td>\n",
       "      <td>1</td>\n",
       "      <td>0</td>\n",
       "    </tr>\n",
       "    <tr>\n",
       "      <th>3</th>\n",
       "      <td>D</td>\n",
       "      <td>1</td>\n",
       "      <td>1</td>\n",
       "      <td>0</td>\n",
       "    </tr>\n",
       "    <tr>\n",
       "      <th>4</th>\n",
       "      <td>FKLQTAEKCKITVA</td>\n",
       "      <td>14</td>\n",
       "      <td>1</td>\n",
       "      <td>0</td>\n",
       "    </tr>\n",
       "  </tbody>\n",
       "</table>\n",
       "</div>"
      ],
      "text/plain": [
       "         amino_acids  count  location  gene\n",
       "0                NFP      3         1     0\n",
       "1                 KT      2         1     0\n",
       "2  MSSSISHIFSFHRDMAL     17         1     0\n",
       "3                  D      1         1     0\n",
       "4     FKLQTAEKCKITVA     14         1     0"
      ]
     },
     "execution_count": 34,
     "metadata": {},
     "output_type": "execute_result"
    }
   ],
   "source": [
    "df.head()"
   ]
  },
  {
   "cell_type": "code",
   "execution_count": 35,
   "id": "cec6fcaf-54bf-4812-8ca1-60148614457b",
   "metadata": {},
   "outputs": [
    {
     "data": {
      "text/html": [
       "<div>\n",
       "<style scoped>\n",
       "    .dataframe tbody tr th:only-of-type {\n",
       "        vertical-align: middle;\n",
       "    }\n",
       "\n",
       "    .dataframe tbody tr th {\n",
       "        vertical-align: top;\n",
       "    }\n",
       "\n",
       "    .dataframe thead th {\n",
       "        text-align: right;\n",
       "    }\n",
       "</style>\n",
       "<table border=\"1\" class=\"dataframe\">\n",
       "  <thead>\n",
       "    <tr style=\"text-align: right;\">\n",
       "      <th></th>\n",
       "      <th>amino_acids</th>\n",
       "      <th>count</th>\n",
       "      <th>location</th>\n",
       "      <th>gene</th>\n",
       "    </tr>\n",
       "  </thead>\n",
       "  <tbody>\n",
       "    <tr>\n",
       "      <th>0</th>\n",
       "      <td>QGHLSYLFTN</td>\n",
       "      <td>10</td>\n",
       "      <td>1</td>\n",
       "      <td>0</td>\n",
       "    </tr>\n",
       "    <tr>\n",
       "      <th>1</th>\n",
       "      <td>FYCHIFRIVLFKYIQNTEYINKVFQKPGKNSGFFQR</td>\n",
       "      <td>36</td>\n",
       "      <td>1</td>\n",
       "      <td>0</td>\n",
       "    </tr>\n",
       "    <tr>\n",
       "      <th>2</th>\n",
       "      <td>T</td>\n",
       "      <td>1</td>\n",
       "      <td>1</td>\n",
       "      <td>0</td>\n",
       "    </tr>\n",
       "    <tr>\n",
       "      <th>3</th>\n",
       "      <td>SEPMGNLRTPTTTASTLGNQGVWG</td>\n",
       "      <td>24</td>\n",
       "      <td>1</td>\n",
       "      <td>0</td>\n",
       "    </tr>\n",
       "    <tr>\n",
       "      <th>4</th>\n",
       "      <td>AWAPTHTDILKDHFLKIFSTVYCAFLLYPHT</td>\n",
       "      <td>31</td>\n",
       "      <td>1</td>\n",
       "      <td>0</td>\n",
       "    </tr>\n",
       "  </tbody>\n",
       "</table>\n",
       "</div>"
      ],
      "text/plain": [
       "                            amino_acids  count  location  gene\n",
       "0                            QGHLSYLFTN     10         1     0\n",
       "1  FYCHIFRIVLFKYIQNTEYINKVFQKPGKNSGFFQR     36         1     0\n",
       "2                                     T      1         1     0\n",
       "3              SEPMGNLRTPTTTASTLGNQGVWG     24         1     0\n",
       "4       AWAPTHTDILKDHFLKIFSTVYCAFLLYPHT     31         1     0"
      ]
     },
     "execution_count": 35,
     "metadata": {},
     "output_type": "execute_result"
    }
   ],
   "source": [
    "#shuffle the data\n",
    "df = sklearn.utils.shuffle(df,random_state=101)\n",
    "df = df.reset_index(drop=True)\n",
    "df.head()"
   ]
  },
  {
   "cell_type": "code",
   "execution_count": 36,
   "id": "2278ab56-8092-4035-acab-04cb6c305fa9",
   "metadata": {},
   "outputs": [
    {
     "data": {
      "text/plain": [
       "3073"
      ]
     },
     "execution_count": 36,
     "metadata": {},
     "output_type": "execute_result"
    }
   ],
   "source": [
    "len(df)"
   ]
  },
  {
   "cell_type": "code",
   "execution_count": 38,
   "id": "8b442a18-feec-4a43-b5b2-f12c42ef6dd8",
   "metadata": {},
   "outputs": [],
   "source": [
    "df_train = df[:2950]\n",
    "df_test = df[2950:]\n"
   ]
  },
  {
   "cell_type": "code",
   "execution_count": 39,
   "id": "72ae7a46-473a-4044-8e27-e2f628729ecc",
   "metadata": {},
   "outputs": [],
   "source": [
    "\n",
    "df_train.to_csv('train.csv')\n",
    "df_test.to_csv('test.csv')"
   ]
  },
  {
   "cell_type": "code",
   "execution_count": null,
   "id": "6e09e5b3-a51b-4e42-aa2e-4bfd3371b8eb",
   "metadata": {},
   "outputs": [],
   "source": []
  }
 ],
 "metadata": {
  "kernelspec": {
   "display_name": "Python 3",
   "language": "python",
   "name": "python3"
  },
  "language_info": {
   "codemirror_mode": {
    "name": "ipython",
    "version": 3
   },
   "file_extension": ".py",
   "mimetype": "text/x-python",
   "name": "python",
   "nbconvert_exporter": "python",
   "pygments_lexer": "ipython3",
   "version": "3.7.9"
  }
 },
 "nbformat": 4,
 "nbformat_minor": 5
}
