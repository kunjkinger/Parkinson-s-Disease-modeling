{
  "nbformat": 4,
  "nbformat_minor": 0,
  "metadata": {
    "accelerator": "GPU",
    "colab": {
      "name": "nlp_for_parkinson.ipynb",
      "provenance": [],
      "collapsed_sections": []
    },
    "kernelspec": {
      "display_name": "Python 3",
      "name": "python3"
    },
    "language_info": {
      "name": "python"
    }
  },
  "cells": [
    {
      "cell_type": "code",
      "metadata": {
        "colab": {
          "base_uri": "https://localhost:8080/"
        },
        "id": "PRYJ655TTj2c",
        "outputId": "b0300f56-a302-42a8-b791-7326c377d8e7"
      },
      "source": [
        "!pip install biopython"
      ],
      "execution_count": null,
      "outputs": [
        {
          "output_type": "stream",
          "name": "stdout",
          "text": [
            "Requirement already satisfied: biopython in /usr/local/lib/python3.7/dist-packages (1.79)\n",
            "Requirement already satisfied: numpy in /usr/local/lib/python3.7/dist-packages (from biopython) (1.19.5)\n"
          ]
        }
      ]
    },
    {
      "cell_type": "code",
      "metadata": {
        "id": "QIV24ZBU1INW"
      },
      "source": [
        ""
      ],
      "execution_count": null,
      "outputs": []
    },
    {
      "cell_type": "code",
      "metadata": {
        "id": "0WrT0HZvDn_6"
      },
      "source": [
        "from Bio.Seq import Seq\n",
        "from Bio import SeqIO\n",
        "from collections import Counter\n",
        "from Bio.PDB import PDBParser\n",
        "import numpy as np\n",
        "import pandas as pd\n",
        "import re\n",
        "import matplotlib.pyplot as plt\n",
        "import seaborn as sns\n",
        "from sklearn.metrics import accuracy_score, precision_score, f1_score, recall_score,classification_report,confusion_matrix\n",
        "from sklearn.preprocessing import MinMaxScaler\n",
        "import sklearn\n",
        "from sklearn.utils import shuffle"
      ],
      "execution_count": null,
      "outputs": []
    },
    {
      "cell_type": "code",
      "metadata": {
        "colab": {
          "base_uri": "https://localhost:8080/",
          "height": 201
        },
        "id": "Fft5yJi9E4qL",
        "outputId": "5c1b55b6-84d4-4fc6-8534-5cedc9a16fe9"
      },
      "source": [
        "df = pd.read_excel('aminoacids.xlsx')\n",
        "df.head()"
      ],
      "execution_count": null,
      "outputs": [
        {
          "output_type": "execute_result",
          "data": {
            "text/html": [
              "<div>\n",
              "<style scoped>\n",
              "    .dataframe tbody tr th:only-of-type {\n",
              "        vertical-align: middle;\n",
              "    }\n",
              "\n",
              "    .dataframe tbody tr th {\n",
              "        vertical-align: top;\n",
              "    }\n",
              "\n",
              "    .dataframe thead th {\n",
              "        text-align: right;\n",
              "    }\n",
              "</style>\n",
              "<table border=\"1\" class=\"dataframe\">\n",
              "  <thead>\n",
              "    <tr style=\"text-align: right;\">\n",
              "      <th></th>\n",
              "      <th>amino_acids</th>\n",
              "      <th>count</th>\n",
              "      <th>location</th>\n",
              "      <th>gene</th>\n",
              "    </tr>\n",
              "  </thead>\n",
              "  <tbody>\n",
              "    <tr>\n",
              "      <th>0</th>\n",
              "      <td>NFP</td>\n",
              "      <td>3</td>\n",
              "      <td>neural tissue</td>\n",
              "      <td>SNCA</td>\n",
              "    </tr>\n",
              "    <tr>\n",
              "      <th>1</th>\n",
              "      <td>KT</td>\n",
              "      <td>2</td>\n",
              "      <td>neural tissue</td>\n",
              "      <td>SNCA</td>\n",
              "    </tr>\n",
              "    <tr>\n",
              "      <th>2</th>\n",
              "      <td>MSSSISHIFSFHRDMAL</td>\n",
              "      <td>17</td>\n",
              "      <td>neural tissue</td>\n",
              "      <td>SNCA</td>\n",
              "    </tr>\n",
              "    <tr>\n",
              "      <th>3</th>\n",
              "      <td>D</td>\n",
              "      <td>1</td>\n",
              "      <td>neural tissue</td>\n",
              "      <td>SNCA</td>\n",
              "    </tr>\n",
              "    <tr>\n",
              "      <th>4</th>\n",
              "      <td>FKLQTAEKCKITVA</td>\n",
              "      <td>14</td>\n",
              "      <td>neural tissue</td>\n",
              "      <td>SNCA</td>\n",
              "    </tr>\n",
              "  </tbody>\n",
              "</table>\n",
              "</div>"
            ],
            "text/plain": [
              "         amino_acids  count       location  gene\n",
              "0                NFP      3  neural tissue  SNCA\n",
              "1                 KT      2  neural tissue  SNCA\n",
              "2  MSSSISHIFSFHRDMAL     17  neural tissue  SNCA\n",
              "3                  D      1  neural tissue  SNCA\n",
              "4     FKLQTAEKCKITVA     14  neural tissue  SNCA"
            ]
          },
          "metadata": {},
          "execution_count": 85
        }
      ]
    },
    {
      "cell_type": "code",
      "metadata": {
        "colab": {
          "base_uri": "https://localhost:8080/"
        },
        "id": "eQf-s48MFKMd",
        "outputId": "0da2ae05-e12e-493a-c67d-96391a379250"
      },
      "source": [
        "df.info()"
      ],
      "execution_count": null,
      "outputs": [
        {
          "output_type": "stream",
          "name": "stdout",
          "text": [
            "<class 'pandas.core.frame.DataFrame'>\n",
            "RangeIndex: 3310 entries, 0 to 3309\n",
            "Data columns (total 4 columns):\n",
            " #   Column       Non-Null Count  Dtype \n",
            "---  ------       --------------  ----- \n",
            " 0   amino_acids  3111 non-null   object\n",
            " 1   count        3310 non-null   int64 \n",
            " 2   location     3310 non-null   object\n",
            " 3   gene         3310 non-null   object\n",
            "dtypes: int64(1), object(3)\n",
            "memory usage: 103.6+ KB\n"
          ]
        }
      ]
    },
    {
      "cell_type": "code",
      "metadata": {
        "colab": {
          "base_uri": "https://localhost:8080/"
        },
        "id": "ixzK9WaxFRYA",
        "outputId": "d76878ba-5a07-44c8-97f4-ddaf3484121e"
      },
      "source": [
        "df.isnull().sum()"
      ],
      "execution_count": null,
      "outputs": [
        {
          "output_type": "execute_result",
          "data": {
            "text/plain": [
              "amino_acids    199\n",
              "count            0\n",
              "location         0\n",
              "gene             0\n",
              "dtype: int64"
            ]
          },
          "metadata": {},
          "execution_count": 87
        }
      ]
    },
    {
      "cell_type": "code",
      "metadata": {
        "colab": {
          "base_uri": "https://localhost:8080/",
          "height": 344
        },
        "id": "1mMzNoHJFTeE",
        "outputId": "e9efbbbe-8716-4308-e6dc-f6073f0a3c98"
      },
      "source": [
        "%matplotlib inline\n",
        "%config InlineBackend.figure_format='retina'\n",
        "sns.set(style='whitegrid',palette='muted',font_scale=1.2)\n",
        "ax = sns.distplot(df['count'].values,bins=20)\n",
        "ax.set_xlim(-10,160)\n",
        "plt.title(f'sequence length distribution')\n",
        "plt.grid(True) \n",
        "#mostly data covered with in the range of 40"
      ],
      "execution_count": null,
      "outputs": [
        {
          "output_type": "stream",
          "name": "stderr",
          "text": [
            "/usr/local/lib/python3.7/dist-packages/seaborn/distributions.py:2557: FutureWarning: `distplot` is a deprecated function and will be removed in a future version. Please adapt your code to use either `displot` (a figure-level function with similar flexibility) or `histplot` (an axes-level function for histograms).\n",
            "  warnings.warn(msg, FutureWarning)\n"
          ]
        },
        {
          "output_type": "display_data",
          "data": {
            "image/png": "[encoded data removed]",
            "text/plain": [
              "<Figure size 432x288 with 1 Axes>"
            ]
          },
          "metadata": {
            "image/png": {
              "width": 414,
              "height": 271
            }
          }
        }
      ]
    },
    {
      "cell_type": "code",
      "metadata": {
        "colab": {
          "base_uri": "https://localhost:8080/"
        },
        "id": "PY-pFGleFVgd",
        "outputId": "b5fb99e9-638b-42b7-8d56-db80863e7d26"
      },
      "source": [
        "categories = df.location.astype('category').cat\n",
        "df['location'] = categories.codes\n",
        "class_name = categories.categories\n",
        "num_classes = len(class_name)\n",
        "print(class_name)"
      ],
      "execution_count": null,
      "outputs": [
        {
          "output_type": "stream",
          "name": "stdout",
          "text": [
            "Index(['cytoplasm', 'mitochondria', 'neural tissue',\n",
            "       'outer membrane of mitchondria'],\n",
            "      dtype='object')\n"
          ]
        }
      ]
    },
    {
      "cell_type": "code",
      "metadata": {
        "colab": {
          "base_uri": "https://localhost:8080/",
          "height": 201
        },
        "id": "Rk0zXV5DFX38",
        "outputId": "eefb7395-8169-4516-ca1b-59c5f1b0ef38"
      },
      "source": [
        "df.head()"
      ],
      "execution_count": null,
      "outputs": [
        {
          "output_type": "execute_result",
          "data": {
            "text/html": [
              "<div>\n",
              "<style scoped>\n",
              "    .dataframe tbody tr th:only-of-type {\n",
              "        vertical-align: middle;\n",
              "    }\n",
              "\n",
              "    .dataframe tbody tr th {\n",
              "        vertical-align: top;\n",
              "    }\n",
              "\n",
              "    .dataframe thead th {\n",
              "        text-align: right;\n",
              "    }\n",
              "</style>\n",
              "<table border=\"1\" class=\"dataframe\">\n",
              "  <thead>\n",
              "    <tr style=\"text-align: right;\">\n",
              "      <th></th>\n",
              "      <th>amino_acids</th>\n",
              "      <th>count</th>\n",
              "      <th>location</th>\n",
              "      <th>gene</th>\n",
              "    </tr>\n",
              "  </thead>\n",
              "  <tbody>\n",
              "    <tr>\n",
              "      <th>0</th>\n",
              "      <td>NFP</td>\n",
              "      <td>3</td>\n",
              "      <td>2</td>\n",
              "      <td>SNCA</td>\n",
              "    </tr>\n",
              "    <tr>\n",
              "      <th>1</th>\n",
              "      <td>KT</td>\n",
              "      <td>2</td>\n",
              "      <td>2</td>\n",
              "      <td>SNCA</td>\n",
              "    </tr>\n",
              "    <tr>\n",
              "      <th>2</th>\n",
              "      <td>MSSSISHIFSFHRDMAL</td>\n",
              "      <td>17</td>\n",
              "      <td>2</td>\n",
              "      <td>SNCA</td>\n",
              "    </tr>\n",
              "    <tr>\n",
              "      <th>3</th>\n",
              "      <td>D</td>\n",
              "      <td>1</td>\n",
              "      <td>2</td>\n",
              "      <td>SNCA</td>\n",
              "    </tr>\n",
              "    <tr>\n",
              "      <th>4</th>\n",
              "      <td>FKLQTAEKCKITVA</td>\n",
              "      <td>14</td>\n",
              "      <td>2</td>\n",
              "      <td>SNCA</td>\n",
              "    </tr>\n",
              "  </tbody>\n",
              "</table>\n",
              "</div>"
            ],
            "text/plain": [
              "         amino_acids  count  location  gene\n",
              "0                NFP      3         2  SNCA\n",
              "1                 KT      2         2  SNCA\n",
              "2  MSSSISHIFSFHRDMAL     17         2  SNCA\n",
              "3                  D      1         2  SNCA\n",
              "4     FKLQTAEKCKITVA     14         2  SNCA"
            ]
          },
          "metadata": {},
          "execution_count": 90
        }
      ]
    },
    {
      "cell_type": "code",
      "metadata": {
        "colab": {
          "base_uri": "https://localhost:8080/"
        },
        "id": "r-IxHkAGFaBW",
        "outputId": "534f4e37-1248-47d7-cd4a-645b6dafa8bd"
      },
      "source": [
        "categories = df.gene.astype('category').cat\n",
        "df['gene'] = categories.codes\n",
        "class_name = categories.categories\n",
        "num_classes = len(class_name)\n",
        "print(class_name)"
      ],
      "execution_count": null,
      "outputs": [
        {
          "output_type": "stream",
          "name": "stdout",
          "text": [
            "Index(['SNCA', 'lrrk2', 'parkin', 'pink1'], dtype='object')\n"
          ]
        }
      ]
    },
    {
      "cell_type": "code",
      "metadata": {
        "colab": {
          "base_uri": "https://localhost:8080/",
          "height": 201
        },
        "id": "eMdPFS-TFd9q",
        "outputId": "f86b6559-dfb9-4b14-c7f0-2252986c0e28"
      },
      "source": [
        "df.head()"
      ],
      "execution_count": null,
      "outputs": [
        {
          "output_type": "execute_result",
          "data": {
            "text/html": [
              "<div>\n",
              "<style scoped>\n",
              "    .dataframe tbody tr th:only-of-type {\n",
              "        vertical-align: middle;\n",
              "    }\n",
              "\n",
              "    .dataframe tbody tr th {\n",
              "        vertical-align: top;\n",
              "    }\n",
              "\n",
              "    .dataframe thead th {\n",
              "        text-align: right;\n",
              "    }\n",
              "</style>\n",
              "<table border=\"1\" class=\"dataframe\">\n",
              "  <thead>\n",
              "    <tr style=\"text-align: right;\">\n",
              "      <th></th>\n",
              "      <th>amino_acids</th>\n",
              "      <th>count</th>\n",
              "      <th>location</th>\n",
              "      <th>gene</th>\n",
              "    </tr>\n",
              "  </thead>\n",
              "  <tbody>\n",
              "    <tr>\n",
              "      <th>0</th>\n",
              "      <td>NFP</td>\n",
              "      <td>3</td>\n",
              "      <td>2</td>\n",
              "      <td>0</td>\n",
              "    </tr>\n",
              "    <tr>\n",
              "      <th>1</th>\n",
              "      <td>KT</td>\n",
              "      <td>2</td>\n",
              "      <td>2</td>\n",
              "      <td>0</td>\n",
              "    </tr>\n",
              "    <tr>\n",
              "      <th>2</th>\n",
              "      <td>MSSSISHIFSFHRDMAL</td>\n",
              "      <td>17</td>\n",
              "      <td>2</td>\n",
              "      <td>0</td>\n",
              "    </tr>\n",
              "    <tr>\n",
              "      <th>3</th>\n",
              "      <td>D</td>\n",
              "      <td>1</td>\n",
              "      <td>2</td>\n",
              "      <td>0</td>\n",
              "    </tr>\n",
              "    <tr>\n",
              "      <th>4</th>\n",
              "      <td>FKLQTAEKCKITVA</td>\n",
              "      <td>14</td>\n",
              "      <td>2</td>\n",
              "      <td>0</td>\n",
              "    </tr>\n",
              "  </tbody>\n",
              "</table>\n",
              "</div>"
            ],
            "text/plain": [
              "         amino_acids  count  location  gene\n",
              "0                NFP      3         2     0\n",
              "1                 KT      2         2     0\n",
              "2  MSSSISHIFSFHRDMAL     17         2     0\n",
              "3                  D      1         2     0\n",
              "4     FKLQTAEKCKITVA     14         2     0"
            ]
          },
          "metadata": {},
          "execution_count": 92
        }
      ]
    },
    {
      "cell_type": "code",
      "metadata": {
        "colab": {
          "base_uri": "https://localhost:8080/"
        },
        "id": "R1bFFsF-IusC",
        "outputId": "9b9fade4-0bef-45f9-b2cb-9e18e746a4b9"
      },
      "source": [
        "df.isnull().sum()"
      ],
      "execution_count": null,
      "outputs": [
        {
          "output_type": "execute_result",
          "data": {
            "text/plain": [
              "amino_acids    199\n",
              "count            0\n",
              "location         0\n",
              "gene             0\n",
              "dtype: int64"
            ]
          },
          "metadata": {},
          "execution_count": 93
        }
      ]
    },
    {
      "cell_type": "code",
      "metadata": {
        "colab": {
          "base_uri": "https://localhost:8080/"
        },
        "id": "W8glqaAz81QY",
        "outputId": "c64ebe25-6cb2-4699-bfda-69146b00d80b"
      },
      "source": [
        "df = df.dropna()\n",
        "df.isnull().sum()"
      ],
      "execution_count": null,
      "outputs": [
        {
          "output_type": "execute_result",
          "data": {
            "text/plain": [
              "amino_acids    0\n",
              "count          0\n",
              "location       0\n",
              "gene           0\n",
              "dtype: int64"
            ]
          },
          "metadata": {},
          "execution_count": 94
        }
      ]
    },
    {
      "cell_type": "code",
      "metadata": {
        "colab": {
          "base_uri": "https://localhost:8080/",
          "height": 412
        },
        "id": "mBpH0kNr865B",
        "outputId": "14258105-156f-4d8d-e441-c7b872175062"
      },
      "source": [
        "df.drop(df[df['count'] <= 9].index,inplace=True)\n",
        "df"
      ],
      "execution_count": null,
      "outputs": [
        {
          "output_type": "execute_result",
          "data": {
            "text/html": [
              "<div>\n",
              "<style scoped>\n",
              "    .dataframe tbody tr th:only-of-type {\n",
              "        vertical-align: middle;\n",
              "    }\n",
              "\n",
              "    .dataframe tbody tr th {\n",
              "        vertical-align: top;\n",
              "    }\n",
              "\n",
              "    .dataframe thead th {\n",
              "        text-align: right;\n",
              "    }\n",
              "</style>\n",
              "<table border=\"1\" class=\"dataframe\">\n",
              "  <thead>\n",
              "    <tr style=\"text-align: right;\">\n",
              "      <th></th>\n",
              "      <th>amino_acids</th>\n",
              "      <th>count</th>\n",
              "      <th>location</th>\n",
              "      <th>gene</th>\n",
              "    </tr>\n",
              "  </thead>\n",
              "  <tbody>\n",
              "    <tr>\n",
              "      <th>2</th>\n",
              "      <td>MSSSISHIFSFHRDMAL</td>\n",
              "      <td>17</td>\n",
              "      <td>2</td>\n",
              "      <td>0</td>\n",
              "    </tr>\n",
              "    <tr>\n",
              "      <th>4</th>\n",
              "      <td>FKLQTAEKCKITVA</td>\n",
              "      <td>14</td>\n",
              "      <td>2</td>\n",
              "      <td>0</td>\n",
              "    </tr>\n",
              "    <tr>\n",
              "      <th>7</th>\n",
              "      <td>KSSDKDSQMLEGQLCSRRFSRSQATSNPLLCHL</td>\n",
              "      <td>33</td>\n",
              "      <td>2</td>\n",
              "      <td>0</td>\n",
              "    </tr>\n",
              "    <tr>\n",
              "      <th>8</th>\n",
              "      <td>FMSYVLRVHNGSKNAPHHICVSNSRMERKRRKGGIKEGSRSCHLTL...</td>\n",
              "      <td>62</td>\n",
              "      <td>2</td>\n",
              "      <td>0</td>\n",
              "    </tr>\n",
              "    <tr>\n",
              "      <th>9</th>\n",
              "      <td>EMLENLFVSTLHGHYQSISQQRGLCNNSKK</td>\n",
              "      <td>30</td>\n",
              "      <td>2</td>\n",
              "      <td>0</td>\n",
              "    </tr>\n",
              "    <tr>\n",
              "      <th>...</th>\n",
              "      <td>...</td>\n",
              "      <td>...</td>\n",
              "      <td>...</td>\n",
              "      <td>...</td>\n",
              "    </tr>\n",
              "    <tr>\n",
              "      <th>3294</th>\n",
              "      <td>IVYIAYHNRSIRAKYLCNNLRSFLL</td>\n",
              "      <td>25</td>\n",
              "      <td>0</td>\n",
              "      <td>1</td>\n",
              "    </tr>\n",
              "    <tr>\n",
              "      <th>3297</th>\n",
              "      <td>PVFIISDNSL</td>\n",
              "      <td>10</td>\n",
              "      <td>0</td>\n",
              "      <td>1</td>\n",
              "    </tr>\n",
              "    <tr>\n",
              "      <th>3301</th>\n",
              "      <td>YSQNLWHFTM</td>\n",
              "      <td>10</td>\n",
              "      <td>0</td>\n",
              "      <td>1</td>\n",
              "    </tr>\n",
              "    <tr>\n",
              "      <th>3307</th>\n",
              "      <td>KIFCILKEAML</td>\n",
              "      <td>11</td>\n",
              "      <td>0</td>\n",
              "      <td>1</td>\n",
              "    </tr>\n",
              "    <tr>\n",
              "      <th>3309</th>\n",
              "      <td>LTKKSYIIELFVPVLSLSLLLCICNFFYQRQIKKMNTIFKWNNKGF...</td>\n",
              "      <td>50</td>\n",
              "      <td>0</td>\n",
              "      <td>1</td>\n",
              "    </tr>\n",
              "  </tbody>\n",
              "</table>\n",
              "<p>1759 rows × 4 columns</p>\n",
              "</div>"
            ],
            "text/plain": [
              "                                            amino_acids  count  location  gene\n",
              "2                                     MSSSISHIFSFHRDMAL     17         2     0\n",
              "4                                        FKLQTAEKCKITVA     14         2     0\n",
              "7                     KSSDKDSQMLEGQLCSRRFSRSQATSNPLLCHL     33         2     0\n",
              "8     FMSYVLRVHNGSKNAPHHICVSNSRMERKRRKGGIKEGSRSCHLTL...     62         2     0\n",
              "9                        EMLENLFVSTLHGHYQSISQQRGLCNNSKK     30         2     0\n",
              "...                                                 ...    ...       ...   ...\n",
              "3294                          IVYIAYHNRSIRAKYLCNNLRSFLL     25         0     1\n",
              "3297                                         PVFIISDNSL     10         0     1\n",
              "3301                                         YSQNLWHFTM     10         0     1\n",
              "3307                                        KIFCILKEAML     11         0     1\n",
              "3309  LTKKSYIIELFVPVLSLSLLLCICNFFYQRQIKKMNTIFKWNNKGF...     50         0     1\n",
              "\n",
              "[1759 rows x 4 columns]"
            ]
          },
          "metadata": {},
          "execution_count": 95
        }
      ]
    },
    {
      "cell_type": "code",
      "metadata": {
        "colab": {
          "base_uri": "https://localhost:8080/"
        },
        "id": "D9zSFSq-905O",
        "outputId": "e8520bd0-ed18-4a5b-ef88-0721ee1c9a6c"
      },
      "source": [
        "df.info()"
      ],
      "execution_count": null,
      "outputs": [
        {
          "output_type": "stream",
          "name": "stdout",
          "text": [
            "<class 'pandas.core.frame.DataFrame'>\n",
            "Int64Index: 1759 entries, 2 to 3309\n",
            "Data columns (total 4 columns):\n",
            " #   Column       Non-Null Count  Dtype \n",
            "---  ------       --------------  ----- \n",
            " 0   amino_acids  1759 non-null   object\n",
            " 1   count        1759 non-null   int64 \n",
            " 2   location     1759 non-null   int8  \n",
            " 3   gene         1759 non-null   int8  \n",
            "dtypes: int64(1), int8(2), object(1)\n",
            "memory usage: 44.7+ KB\n"
          ]
        }
      ]
    },
    {
      "cell_type": "code",
      "metadata": {
        "colab": {
          "base_uri": "https://localhost:8080/",
          "height": 201
        },
        "id": "YO_jRQAdZhFJ",
        "outputId": "16c48791-0b97-4d82-d9f5-78cfad0d1a25"
      },
      "source": [
        "#shuffle the data\n",
        "df = sklearn.utils.shuffle(df,random_state=41)\n",
        "df = df.reset_index(drop=True)\n",
        "df.head()"
      ],
      "execution_count": null,
      "outputs": [
        {
          "output_type": "execute_result",
          "data": {
            "text/html": [
              "<div>\n",
              "<style scoped>\n",
              "    .dataframe tbody tr th:only-of-type {\n",
              "        vertical-align: middle;\n",
              "    }\n",
              "\n",
              "    .dataframe tbody tr th {\n",
              "        vertical-align: top;\n",
              "    }\n",
              "\n",
              "    .dataframe thead th {\n",
              "        text-align: right;\n",
              "    }\n",
              "</style>\n",
              "<table border=\"1\" class=\"dataframe\">\n",
              "  <thead>\n",
              "    <tr style=\"text-align: right;\">\n",
              "      <th></th>\n",
              "      <th>amino_acids</th>\n",
              "      <th>count</th>\n",
              "      <th>location</th>\n",
              "      <th>gene</th>\n",
              "    </tr>\n",
              "  </thead>\n",
              "  <tbody>\n",
              "    <tr>\n",
              "      <th>0</th>\n",
              "      <td>FLPDLLDTGFICPESPSQYNEDNKVLSPLFGFCLFVVGDGGRLFCD...</td>\n",
              "      <td>106</td>\n",
              "      <td>1</td>\n",
              "      <td>3</td>\n",
              "    </tr>\n",
              "    <tr>\n",
              "      <th>1</th>\n",
              "      <td>FFSFQNIFLPLHKFYIYSRRNIPISDVFVCVSSWNKC</td>\n",
              "      <td>37</td>\n",
              "      <td>2</td>\n",
              "      <td>0</td>\n",
              "    </tr>\n",
              "    <tr>\n",
              "      <th>2</th>\n",
              "      <td>LPSLIYGEGKSSGEGTCSKSHS</td>\n",
              "      <td>22</td>\n",
              "      <td>1</td>\n",
              "      <td>3</td>\n",
              "    </tr>\n",
              "    <tr>\n",
              "      <th>3</th>\n",
              "      <td>FGVVHILFNLYIIWIFFSL</td>\n",
              "      <td>19</td>\n",
              "      <td>2</td>\n",
              "      <td>0</td>\n",
              "    </tr>\n",
              "    <tr>\n",
              "      <th>4</th>\n",
              "      <td>FVRTIPFVLQDFYISLPTLY</td>\n",
              "      <td>20</td>\n",
              "      <td>2</td>\n",
              "      <td>0</td>\n",
              "    </tr>\n",
              "  </tbody>\n",
              "</table>\n",
              "</div>"
            ],
            "text/plain": [
              "                                         amino_acids  count  location  gene\n",
              "0  FLPDLLDTGFICPESPSQYNEDNKVLSPLFGFCLFVVGDGGRLFCD...    106         1     3\n",
              "1              FFSFQNIFLPLHKFYIYSRRNIPISDVFVCVSSWNKC     37         2     0\n",
              "2                             LPSLIYGEGKSSGEGTCSKSHS     22         1     3\n",
              "3                                FGVVHILFNLYIIWIFFSL     19         2     0\n",
              "4                               FVRTIPFVLQDFYISLPTLY     20         2     0"
            ]
          },
          "metadata": {},
          "execution_count": 97
        }
      ]
    },
    {
      "cell_type": "code",
      "metadata": {
        "id": "O05RVkpl-T2u"
      },
      "source": [
        "#convert sequence strings into k-mer words, default size = 9\n",
        "def getkmers(sequence, size=9):\n",
        "  return [sequence[x:x+size].lower() for x in range(len(sequence)- size + 1)]"
      ],
      "execution_count": null,
      "outputs": []
    },
    {
      "cell_type": "code",
      "metadata": {
        "colab": {
          "base_uri": "https://localhost:8080/",
          "height": 201
        },
        "id": "UjXTp4KXYUop",
        "outputId": "bfe378bd-47e8-4e4a-b8af-ff0a8df7260d"
      },
      "source": [
        "df['words'] = df.apply(lambda x: getkmers(x['amino_acids']),axis=1)\n",
        "df = df.drop('amino_acids',axis=1)\n",
        "df.head()\n"
      ],
      "execution_count": null,
      "outputs": [
        {
          "output_type": "execute_result",
          "data": {
            "text/html": [
              "<div>\n",
              "<style scoped>\n",
              "    .dataframe tbody tr th:only-of-type {\n",
              "        vertical-align: middle;\n",
              "    }\n",
              "\n",
              "    .dataframe tbody tr th {\n",
              "        vertical-align: top;\n",
              "    }\n",
              "\n",
              "    .dataframe thead th {\n",
              "        text-align: right;\n",
              "    }\n",
              "</style>\n",
              "<table border=\"1\" class=\"dataframe\">\n",
              "  <thead>\n",
              "    <tr style=\"text-align: right;\">\n",
              "      <th></th>\n",
              "      <th>count</th>\n",
              "      <th>location</th>\n",
              "      <th>gene</th>\n",
              "      <th>words</th>\n",
              "    </tr>\n",
              "  </thead>\n",
              "  <tbody>\n",
              "    <tr>\n",
              "      <th>0</th>\n",
              "      <td>106</td>\n",
              "      <td>1</td>\n",
              "      <td>3</td>\n",
              "      <td>[flpdlldtg, lpdlldtgf, pdlldtgfi, dlldtgfic, l...</td>\n",
              "    </tr>\n",
              "    <tr>\n",
              "      <th>1</th>\n",
              "      <td>37</td>\n",
              "      <td>2</td>\n",
              "      <td>0</td>\n",
              "      <td>[ffsfqnifl, fsfqniflp, sfqniflpl, fqniflplh, q...</td>\n",
              "    </tr>\n",
              "    <tr>\n",
              "      <th>2</th>\n",
              "      <td>22</td>\n",
              "      <td>1</td>\n",
              "      <td>3</td>\n",
              "      <td>[lpsliygeg, psliygegk, sliygegks, liygegkss, i...</td>\n",
              "    </tr>\n",
              "    <tr>\n",
              "      <th>3</th>\n",
              "      <td>19</td>\n",
              "      <td>2</td>\n",
              "      <td>0</td>\n",
              "      <td>[fgvvhilfn, gvvhilfnl, vvhilfnly, vhilfnlyi, h...</td>\n",
              "    </tr>\n",
              "    <tr>\n",
              "      <th>4</th>\n",
              "      <td>20</td>\n",
              "      <td>2</td>\n",
              "      <td>0</td>\n",
              "      <td>[fvrtipfvl, vrtipfvlq, rtipfvlqd, tipfvlqdf, i...</td>\n",
              "    </tr>\n",
              "  </tbody>\n",
              "</table>\n",
              "</div>"
            ],
            "text/plain": [
              "   count  location  gene                                              words\n",
              "0    106         1     3  [flpdlldtg, lpdlldtgf, pdlldtgfi, dlldtgfic, l...\n",
              "1     37         2     0  [ffsfqnifl, fsfqniflp, sfqniflpl, fqniflplh, q...\n",
              "2     22         1     3  [lpsliygeg, psliygegk, sliygegks, liygegkss, i...\n",
              "3     19         2     0  [fgvvhilfn, gvvhilfnl, vvhilfnly, vhilfnlyi, h...\n",
              "4     20         2     0  [fvrtipfvl, vrtipfvlq, rtipfvlqd, tipfvlqdf, i..."
            ]
          },
          "metadata": {},
          "execution_count": 99
        }
      ]
    },
    {
      "cell_type": "markdown",
      "metadata": {
        "id": "KBp_J2ehcIs9"
      },
      "source": [
        "we are going to use scikit-learn nlp tools to do the k-mer counting, we need to convert thr lists of k-mers of each gene into string sentences of words that the count vectorizer can use. we can also make a y variable to hold the class labels."
      ]
    },
    {
      "cell_type": "code",
      "metadata": {
        "id": "KxmowdyCYl1N"
      },
      "source": [
        "amino_text = list (df['words'])\n",
        "for item in range(len(amino_text)):\n",
        "    amino_text[item] = ' '.join(amino_text[item])\n",
        "y_data = df.iloc[:,2].values"
      ],
      "execution_count": null,
      "outputs": []
    },
    {
      "cell_type": "code",
      "metadata": {
        "colab": {
          "base_uri": "https://localhost:8080/"
        },
        "id": "A0D_fo-7aAOL",
        "outputId": "24f30251-2b3f-4f37-8eaa-b821a93e27e9"
      },
      "source": [
        "print(amino_text[0])"
      ],
      "execution_count": null,
      "outputs": [
        {
          "output_type": "stream",
          "name": "stdout",
          "text": [
            "flpdlldtg lpdlldtgf pdlldtgfi dlldtgfic lldtgficp ldtgficpe dtgficpes tgficpesp gficpesps ficpespsq icpespsqy cpespsqyn pespsqyne espsqyned spsqynedn psqynednk sqynednkv qynednkvl ynednkvls nednkvlsp ednkvlspl dnkvlsplf nkvlsplfg kvlsplfgf vlsplfgfc lsplfgfcl splfgfclf plfgfclfv lfgfclfvv fgfclfvvg gfclfvvgd fclfvvgdg clfvvgdgg lfvvgdggr fvvgdggrl vvgdggrlf vgdggrlfc gdggrlfcd dggrlfcds ggrlfcdsv grlfcdsvq rlfcdsvql lfcdsvqlh fcdsvqlhp cdsvqlhpg dsvqlhpgw svqlhpgws vqlhpgwsm qlhpgwsms lhpgwsmsg hpgwsmsgs pgwsmsgsg gwsmsgsgl wsmsgsgla smsgsglaa msgsglaae sgsglaaeg gsglaaegs sglaaegsl glaaegslq laaegslqn aaegslqne aegslqnel egslqnelv gslqnelvi slqnelviq lqnelviqw qnelviqws nelviqwsi elviqwsil lviqwsiln viqwsilnw iqwsilnww qwsilnwwg wsilnwwgp silnwwgpe ilnwwgpea lnwwgpeap nwwgpeapm wwgpeapma wgpeapmag gpeapmags peapmagss eapmagsst apmagsstp pmagsstpy magsstpyp agsstpypd gsstpypdh sstpypdhl stpypdhlg tpypdhlgi pypdhlgis ypdhlgiss pdhlgisss dhlgisssp hlgissspg lgissspgi\n"
          ]
        }
      ]
    },
    {
      "cell_type": "code",
      "metadata": {
        "colab": {
          "base_uri": "https://localhost:8080/"
        },
        "id": "O7WKKHNlb7Df",
        "outputId": "8f5b3fd1-b51c-4867-bd04-0958923d35a2"
      },
      "source": [
        "y_data"
      ],
      "execution_count": null,
      "outputs": [
        {
          "output_type": "execute_result",
          "data": {
            "text/plain": [
              "array([3, 0, 3, ..., 0, 0, 0], dtype=int8)"
            ]
          },
          "metadata": {},
          "execution_count": 102
        }
      ]
    },
    {
      "cell_type": "markdown",
      "metadata": {
        "id": "_YvihF-rcqgP"
      },
      "source": [
        "we will apply the bag of words using countvectorizer using NLP"
      ]
    },
    {
      "cell_type": "code",
      "metadata": {
        "id": "td06eKU_dAN6"
      },
      "source": [
        "from sklearn.feature_extraction.text import CountVectorizer\n",
        "cv = CountVectorizer(ngram_range=(5,5))\n",
        "x = cv.fit_transform(amino_text)"
      ],
      "execution_count": null,
      "outputs": []
    },
    {
      "cell_type": "code",
      "metadata": {
        "colab": {
          "base_uri": "https://localhost:8080/"
        },
        "id": "12zJCJA3daLB",
        "outputId": "00d94ff2-dab7-4780-8337-495609eac108"
      },
      "source": [
        "print(x.shape) # 2505 rows with 41346 vectors representing proteins"
      ],
      "execution_count": null,
      "outputs": [
        {
          "output_type": "stream",
          "name": "stdout",
          "text": [
            "(1759, 30911)\n"
          ]
        }
      ]
    },
    {
      "cell_type": "code",
      "metadata": {
        "colab": {
          "base_uri": "https://localhost:8080/",
          "height": 283
        },
        "id": "vglT64ObdcXO",
        "outputId": "1c7c6702-808e-46c0-93dc-4327ae25f36e"
      },
      "source": [
        "df['gene'].value_counts().plot.bar()"
      ],
      "execution_count": null,
      "outputs": [
        {
          "output_type": "execute_result",
          "data": {
            "text/plain": [
              "<matplotlib.axes._subplots.AxesSubplot at 0x7f69557b8990>"
            ]
          },
          "metadata": {},
          "execution_count": 105
        },
        {
          "output_type": "display_data",
          "data": {
            "image/png": "[encoded data removed]",
            "text/plain": [
              "<Figure size 432x288 with 1 Axes>"
            ]
          },
          "metadata": {
            "image/png": {
              "width": 392,
              "height": 249
            }
          }
        }
      ]
    },
    {
      "cell_type": "code",
      "metadata": {
        "id": "-HZobAW6eeCL"
      },
      "source": [
        "from sklearn.model_selection import train_test_split\n",
        "X_train, X_test, y_train, y_test = train_test_split(x, \n",
        "                                                    y_data, \n",
        "                                                    test_size = 0.15, \n",
        "                                                    random_state=101)"
      ],
      "execution_count": null,
      "outputs": []
    },
    {
      "cell_type": "code",
      "metadata": {
        "colab": {
          "base_uri": "https://localhost:8080/"
        },
        "id": "C-tDQALde0Hx",
        "outputId": "f94bc31b-d0ce-4dfb-9c2a-e36162aedb3d"
      },
      "source": [
        "#using text processing\n",
        "from sklearn.feature_extraction.text import TfidfTransformer\n",
        "from sklearn.pipeline import Pipeline\n",
        "from sklearn.naive_bayes import MultinomialNB\n",
        "pipe = Pipeline([('bow',CountVectorizer()),\n",
        "                  ('tfidf',TfidfTransformer()),\n",
        "                  ('model',MultinomialNB())])\n",
        "\n",
        "x = amino_text\n",
        "y = df['gene']\n",
        "x_train,x_test,y_train,y_test = train_test_split(x,y,test_size=0.15,random_state=101)\n",
        "\n",
        "pipe.fit(x_train,y_train)\n",
        "\n",
        "pred = pipe.predict(x_test)\n",
        "\n",
        "\n",
        "from sklearn.metrics import classification_report, confusion_matrix\n",
        "print(classification_report(y_test,pred))\n",
        "print(confusion_matrix(y_test,pred))"
      ],
      "execution_count": null,
      "outputs": [
        {
          "output_type": "stream",
          "name": "stdout",
          "text": [
            "              precision    recall  f1-score   support\n",
            "\n",
            "           0       0.86      1.00      0.93       228\n",
            "           2       0.00      0.00      0.00         2\n",
            "           3       0.00      0.00      0.00        34\n",
            "\n",
            "    accuracy                           0.86       264\n",
            "   macro avg       0.29      0.33      0.31       264\n",
            "weighted avg       0.75      0.86      0.80       264\n",
            "\n",
            "[[228   0   0]\n",
            " [  2   0   0]\n",
            " [ 34   0   0]]\n"
          ]
        },
        {
          "output_type": "stream",
          "name": "stderr",
          "text": [
            "/usr/local/lib/python3.7/dist-packages/sklearn/metrics/_classification.py:1272: UndefinedMetricWarning: Precision and F-score are ill-defined and being set to 0.0 in labels with no predicted samples. Use `zero_division` parameter to control this behavior.\n",
            "  _warn_prf(average, modifier, msg_start, len(result))\n"
          ]
        }
      ]
    },
    {
      "cell_type": "markdown",
      "metadata": {
        "id": "Ve5hjxYEhEJZ"
      },
      "source": [
        "**latent_dirichlet_allocation_**"
      ]
    },
    {
      "cell_type": "code",
      "metadata": {
        "id": "TqrcbQgSjYKC"
      },
      "source": [
        "from sklearn.decomposition import LatentDirichletAllocation"
      ],
      "execution_count": null,
      "outputs": []
    },
    {
      "cell_type": "code",
      "metadata": {
        "id": "nd2_Dmm3kR14"
      },
      "source": [
        "from sklearn.feature_extraction.text import CountVectorizer\n",
        "cv = CountVectorizer(ngram_range=(5,5))\n",
        "x = cv.fit_transform(amino_text)"
      ],
      "execution_count": null,
      "outputs": []
    },
    {
      "cell_type": "code",
      "metadata": {
        "id": "E9AuxM8IkU4K"
      },
      "source": [
        "lda = LatentDirichletAllocation(n_components=4,random_state=42)"
      ],
      "execution_count": null,
      "outputs": []
    },
    {
      "cell_type": "code",
      "metadata": {
        "colab": {
          "base_uri": "https://localhost:8080/"
        },
        "id": "x3Lh2YvLkWrC",
        "outputId": "dc84faaa-41be-4984-bcc1-5fe70a1abc98"
      },
      "source": [
        "lda.fit(x)"
      ],
      "execution_count": null,
      "outputs": [
        {
          "output_type": "execute_result",
          "data": {
            "text/plain": [
              "LatentDirichletAllocation(batch_size=128, doc_topic_prior=None,\n",
              "                          evaluate_every=-1, learning_decay=0.7,\n",
              "                          learning_method='batch', learning_offset=10.0,\n",
              "                          max_doc_update_iter=100, max_iter=10,\n",
              "                          mean_change_tol=0.001, n_components=4, n_jobs=None,\n",
              "                          perp_tol=0.1, random_state=42, topic_word_prior=None,\n",
              "                          total_samples=1000000.0, verbose=0)"
            ]
          },
          "metadata": {},
          "execution_count": 111
        }
      ]
    },
    {
      "cell_type": "code",
      "metadata": {
        "colab": {
          "base_uri": "https://localhost:8080/"
        },
        "id": "9bvT7CZ6kZac",
        "outputId": "e1d48222-1a34-49d7-a11a-7439cb7ff863"
      },
      "source": [
        "#grab the aminoacids\n",
        "len(cv.get_feature_names())"
      ],
      "execution_count": null,
      "outputs": [
        {
          "output_type": "execute_result",
          "data": {
            "text/plain": [
              "30911"
            ]
          },
          "metadata": {},
          "execution_count": 112
        }
      ]
    },
    {
      "cell_type": "code",
      "metadata": {
        "colab": {
          "base_uri": "https://localhost:8080/"
        },
        "id": "Rvl5S7qKkdAy",
        "outputId": "d6fda51f-4f25-4eb2-f09c-03850ed1a984"
      },
      "source": [
        "type(cv.get_feature_names())"
      ],
      "execution_count": null,
      "outputs": [
        {
          "output_type": "execute_result",
          "data": {
            "text/plain": [
              "list"
            ]
          },
          "metadata": {},
          "execution_count": 113
        }
      ]
    },
    {
      "cell_type": "code",
      "metadata": {
        "colab": {
          "base_uri": "https://localhost:8080/",
          "height": 36
        },
        "id": "IagzGxXdkftZ",
        "outputId": "30d1aadd-e69d-4261-b2b6-ad269f2c4245"
      },
      "source": [
        "#just to check for the 5000 row\n",
        "cv.get_feature_names()[5000]"
      ],
      "execution_count": null,
      "outputs": [
        {
          "output_type": "execute_result",
          "data": {
            "application/vnd.google.colaboratory.intrinsic+json": {
              "type": "string"
            },
            "text/plain": [
              "'ffttnllhv fttnllhvl ttnllhvll tnllhvlln nllhvllnc'"
            ]
          },
          "metadata": {},
          "execution_count": 114
        }
      ]
    },
    {
      "cell_type": "code",
      "metadata": {
        "colab": {
          "base_uri": "https://localhost:8080/"
        },
        "id": "4WpFo3pQklOx",
        "outputId": "7b3b42c8-4761-4241-ffcc-77c28a048006"
      },
      "source": [
        "#grab the genes\n",
        "len(lda.components_)"
      ],
      "execution_count": null,
      "outputs": [
        {
          "output_type": "execute_result",
          "data": {
            "text/plain": [
              "4"
            ]
          },
          "metadata": {},
          "execution_count": 115
        }
      ]
    },
    {
      "cell_type": "code",
      "metadata": {
        "colab": {
          "base_uri": "https://localhost:8080/"
        },
        "id": "IV_3t_VzktZ5",
        "outputId": "054d60ba-af1b-4301-a778-97c89ca2b3d8"
      },
      "source": [
        "type(lda.components_)"
      ],
      "execution_count": null,
      "outputs": [
        {
          "output_type": "execute_result",
          "data": {
            "text/plain": [
              "numpy.ndarray"
            ]
          },
          "metadata": {},
          "execution_count": 116
        }
      ]
    },
    {
      "cell_type": "code",
      "metadata": {
        "colab": {
          "base_uri": "https://localhost:8080/"
        },
        "id": "CI08k2dYk1sr",
        "outputId": "2ee49d08-cb10-432e-9835-0f043033985e"
      },
      "source": [
        "lda.components_.shape # this means 4 groups of genes by 41348 amino acids"
      ],
      "execution_count": null,
      "outputs": [
        {
          "output_type": "execute_result",
          "data": {
            "text/plain": [
              "(4, 30911)"
            ]
          },
          "metadata": {},
          "execution_count": 117
        }
      ]
    },
    {
      "cell_type": "code",
      "metadata": {
        "id": "MkKla5udlEGa"
      },
      "source": [
        "single_amino = lda.components_[0]"
      ],
      "execution_count": null,
      "outputs": []
    },
    {
      "cell_type": "code",
      "metadata": {
        "colab": {
          "base_uri": "https://localhost:8080/"
        },
        "id": "5YUgcSY8lHow",
        "outputId": "ab48f8d2-e84c-4d78-ea1f-119d52195ad3"
      },
      "source": [
        "single_amino.argsort()"
      ],
      "execution_count": null,
      "outputs": [
        {
          "output_type": "execute_result",
          "data": {
            "text/plain": [
              "array([10584, 18826, 13852, ...,  9602, 14182,  6329])"
            ]
          },
          "metadata": {},
          "execution_count": 119
        }
      ]
    },
    {
      "cell_type": "code",
      "metadata": {
        "colab": {
          "base_uri": "https://localhost:8080/"
        },
        "id": "BjW4xWprlKYe",
        "outputId": "82042097-eb86-444c-8191-53c9dd037ad5"
      },
      "source": [
        "#first argsort does sorting with the indexing location in ascending order\n",
        "#top 10 values ( 10 greatest values)\n",
        "#last 10 values of argsort  \n",
        "single_amino.argsort()[-10:] # grab the last 10 values of  .argsort()"
      ],
      "execution_count": null,
      "outputs": [
        {
          "output_type": "execute_result",
          "data": {
            "text/plain": [
              "array([27003, 21554,  7529, 27882,  5613, 29573, 27458,  9602, 14182,\n",
              "        6329])"
            ]
          },
          "metadata": {},
          "execution_count": 120
        }
      ]
    },
    {
      "cell_type": "code",
      "metadata": {
        "id": "pwFi2cuclQuf"
      },
      "source": [
        "top_twenty_amino = single_amino.argsort()[-20:]"
      ],
      "execution_count": null,
      "outputs": []
    },
    {
      "cell_type": "code",
      "metadata": {
        "colab": {
          "base_uri": "https://localhost:8080/"
        },
        "id": "NypbqMtalWZv",
        "outputId": "a96362c0-d56a-4048-edbe-805d322425ea"
      },
      "source": [
        "for index in top_twenty_amino:\n",
        "  print(cv.get_feature_names()[index])"
      ],
      "execution_count": null,
      "outputs": [
        {
          "output_type": "stream",
          "name": "stdout",
          "text": [
            "vlfervsee lfervseeq fervseeql ervseeqlt rvseeqlte\n",
            "gvhqlilkm vhqlilkml hqlilkmlt qlilkmltv lilkmltvh\n",
            "dgsfgsvyr gsfgsvyra sfgsvyraa fgsvyraay gsvyraaye\n",
            "getpsllki etpsllkiq tpsllkiqk psllkiqkl sllkiqkla\n",
            "qhgetpsll hgetpsllk getpsllki etpsllkiq tpsllkiqk\n",
            "hgetpsllk getpsllki etpsllkiq tpsllkiqk psllkiqkl\n",
            "gvnfisige vnfisigew nfisigewi fisigewid isigewida\n",
            "vnfisigew nfisigewi fisigewid isigewida sigewidav\n",
            "ltpvipalw tpvipalwk pvipalwka vipalwkae ipalwkaev\n",
            "wltpvipal ltpvipalw tpvipalwk pvipalwka vipalwkae\n",
            "tpvipalwk pvipalwka vipalwkae ipalwkaev palwkaevg\n",
            "rarwltpvi arwltpvip rwltpvipa wltpvipal ltpvipalw\n",
            "grarwltpv rarwltpvi arwltpvip rwltpvipa wltpvipal\n",
            "vflvetgfh flvetgfhh lvetgfhhv vetgfhhvg etgfhhvgq\n",
            "flvetgfhh lvetgfhhv vetgfhhvg etgfhhvgq tgfhhvgqa\n",
            "wlifvflve lifvflvet ifvflvetg fvflvetgf vflvetgfh\n",
            "twlifvflv wlifvflve lifvflvet ifvflvetg fvflvetgf\n",
            "ifvflvetg fvflvetgf vflvetgfh flvetgfhh lvetgfhhv\n",
            "lifvflvet ifvflvetg fvflvetgf vflvetgfh flvetgfhh\n",
            "fvflvetgf vflvetgfh flvetgfhh lvetgfhhv vetgfhhvg\n"
          ]
        }
      ]
    },
    {
      "cell_type": "markdown",
      "metadata": {
        "id": "05IEb9gklbNj"
      },
      "source": [
        "#grab the genes with the highest prob per aminoacids"
      ]
    },
    {
      "cell_type": "code",
      "metadata": {
        "colab": {
          "base_uri": "https://localhost:8080/"
        },
        "id": "2P3rLPI-lsff",
        "outputId": "31979041-2d19-4a4b-af26-5bc115fd3b3c"
      },
      "source": [
        "for index, amino in enumerate(lda.components_):\n",
        "  print(f\"THE TOP 15 amino for gene #  {index}\")\n",
        "  print([cv.get_feature_names()[index] for index in amino.argsort()[-15:]])\n",
        "  print('\\n')\n",
        "  print('\\n')"
      ],
      "execution_count": null,
      "outputs": [
        {
          "output_type": "stream",
          "name": "stdout",
          "text": [
            "THE TOP 15 amino for gene #  0\n",
            "['hgetpsllk getpsllki etpsllkiq tpsllkiqk psllkiqkl', 'gvnfisige vnfisigew nfisigewi fisigewid isigewida', 'vnfisigew nfisigewi fisigewid isigewida sigewidav', 'ltpvipalw tpvipalwk pvipalwka vipalwkae ipalwkaev', 'wltpvipal ltpvipalw tpvipalwk pvipalwka vipalwkae', 'tpvipalwk pvipalwka vipalwkae ipalwkaev palwkaevg', 'rarwltpvi arwltpvip rwltpvipa wltpvipal ltpvipalw', 'grarwltpv rarwltpvi arwltpvip rwltpvipa wltpvipal', 'vflvetgfh flvetgfhh lvetgfhhv vetgfhhvg etgfhhvgq', 'flvetgfhh lvetgfhhv vetgfhhvg etgfhhvgq tgfhhvgqa', 'wlifvflve lifvflvet ifvflvetg fvflvetgf vflvetgfh', 'twlifvflv wlifvflve lifvflvet ifvflvetg fvflvetgf', 'ifvflvetg fvflvetgf vflvetgfh flvetgfhh lvetgfhhv', 'lifvflvet ifvflvetg fvflvetgf vflvetgfh flvetgfhh', 'fvflvetgf vflvetgfh flvetgfhh lvetgfhhv vetgfhhvg']\n",
            "\n",
            "\n",
            "\n",
            "\n",
            "THE TOP 15 amino for gene #  1\n",
            "['ergraterr rgraterrd graterrda raterrdae aterrdaev', 'rdpklnvrr dpklnvrrk pklnvrrks klnvrrksa lnvrrksap', 'nvrrksapt vrrksaptf rrksaptfp rksaptfpp ksaptfppc', 'cvraaaqtp vraaaqtpa raaaqtpar aaaqtparp aaqtparpl', 'ipsptapdl psptapdlh sptapdlhk ptapdlhks tapdlhksa', 'rkggdkkgg kggdkkgge ggdkkggeg gdkkggege dkkggeger', 'dqhgetpsl qhgetpsll hgetpsllk getpsllki etpsllkiq', 'plhsslgdr lhsslgdra hsslgdrar sslgdrarl slgdrarlc', 'drarlclkk rarlclkkk arlclkkkk rlclkkkkk lclkkkkkk', 'lgdrarlcl gdrarlclk drarlclkk rarlclkkk arlclkkkk', 'hsslgdrar sslgdrarl slgdrarlc lgdrarlcl gdrarlclk', 'sslgdrarl slgdrarlc lgdrarlcl gdrarlclk drarlclkk', 'gdrarlclk drarlclkk rarlclkkk arlclkkkk rlclkkkkk', 'slgdrarlc lgdrarlcl gdrarlclk drarlclkk rarlclkkk', 'lhsslgdra hsslgdrar sslgdrarl slgdrarlc lgdrarlcl']\n",
            "\n",
            "\n",
            "\n",
            "\n",
            "THE TOP 15 amino for gene #  2\n",
            "['gelprgpap elprgpapp lprgpappt prgpappts rgpapptsa', 'aptrrvgel ptrrvgelp trrvgelpr rrvgelprg rvgelprgp', 'ptrrvgelp trrvgelpr rrvgelprg rvgelprgp vgelprgpa', 'gcvrgerpg cvrgerpgw vrgerpgwa rgerpgwaa gerpgwaag', 'gcagpcgra cagpcgrav agpcgravf gpcgravfl pcgravfla', 'gatmavrqa atmavrqal tmavrqalg mavrqalgr avrqalgrg', 'gapgrgatm apgrgatma pgrgatmav grgatmavr rgatmavrq', 'trrvgelpr rrvgelprg rvgelprgp vgelprgpa gelprgpap', 'gaeprrvgl aeprrvglg eprrvglgl prrvglglp rrvglglpn', 'tsacacaea sacacaeap acacaeapp cacaeappq acaeappqv', 'arlqrqfvv rlqrqfvvr lqrqfvvra qrqfvvraw rqfvvrawg', 'aaaaaagap aaaaagapg aaaagapgr aaagapgrg aagapgrga', 'glpkcwdyr lpkcwdyrh pkcwdyrhe kcwdyrhep cwdyrhepp', 'lglpkcwdy glpkcwdyr lpkcwdyrh pkcwdyrhe kcwdyrhep', 'slslslsls lslslslsl slslslsls lslslslsl slslslsls']\n",
            "\n",
            "\n",
            "\n",
            "\n",
            "THE TOP 15 amino for gene #  3\n",
            "['ssqaiftqk sqaiftqks qaiftqksk aiftqkskp iftqkskpg', 'sqaiftqks qaiftqksk aiftqkskp iftqkskpg ftqkskpgp', 'ilfssqaif lfssqaift fssqaiftq ssqaiftqk sqaiftqks', 'rrlqgfrle rlqgfrlee lqgfrleey qgfrleeyl gfrleeyli', 'gfrleeyli frleeylig rleeyligq leeyligqs eeyligqsi', 'rrgprlaap rgprlaapl gprlaapls prlaaplsa rlaaplsas', 'nlevtkstg levtkstgl evtkstgll vtkstgllp tkstgllpg', 'tkstgllpg kstgllpgr stgllpgrg tgllpgrgp gllpgrgpg', 'gegqerapg egqerapga gqerapgap qerapgapa erapgapaf', 'gdvlkmpil dvlkmpilv vlkmpilvg lkmpilvgl kmpilvglv', 'levtkstgl evtkstgll vtkstgllp tkstgllpg kstgllpgr', 'gcsaavyea csaavyeat saavyeatm aavyeatmp avyeatmpt', 'vyeatmptl yeatmptlp eatmptlpq atmptlpqn tmptlpqnl', 'skpgpdpld kpgpdpldt pgpdpldtr gpdpldtrr pdpldtrrl', 'nfcifsrdg fcifsrdgv cifsrdgvs ifsrdgvsp fsrdgvspc']\n",
            "\n",
            "\n",
            "\n",
            "\n"
          ]
        }
      ]
    },
    {
      "cell_type": "code",
      "metadata": {
        "id": "91q1aPa7l2Hm"
      },
      "source": [
        "results = lda.transform(x)"
      ],
      "execution_count": null,
      "outputs": []
    },
    {
      "cell_type": "code",
      "metadata": {
        "colab": {
          "base_uri": "https://localhost:8080/"
        },
        "id": "wR3O2EgCmCMg",
        "outputId": "e20fae7f-8374-4c7a-c37d-5a5175a58cb3"
      },
      "source": [
        "results.shape"
      ],
      "execution_count": null,
      "outputs": [
        {
          "output_type": "execute_result",
          "data": {
            "text/plain": [
              "(1759, 4)"
            ]
          },
          "metadata": {},
          "execution_count": 125
        }
      ]
    },
    {
      "cell_type": "code",
      "metadata": {
        "colab": {
          "base_uri": "https://localhost:8080/"
        },
        "id": "rQOoBPVamD4q",
        "outputId": "be44c595-4473-4f8c-9826-fa6029b70cb0"
      },
      "source": [
        "results[1].round(2) # highest prob showing"
      ],
      "execution_count": null,
      "outputs": [
        {
          "output_type": "execute_result",
          "data": {
            "text/plain": [
              "array([0.01, 0.97, 0.01, 0.01])"
            ]
          },
          "metadata": {},
          "execution_count": 126
        }
      ]
    },
    {
      "cell_type": "code",
      "metadata": {
        "colab": {
          "base_uri": "https://localhost:8080/"
        },
        "id": "4FtvaDrLmGL4",
        "outputId": "5adc96fa-e913-4028-8c4f-3c8b7bec2143"
      },
      "source": [
        "results[0].argmax()"
      ],
      "execution_count": null,
      "outputs": [
        {
          "output_type": "execute_result",
          "data": {
            "text/plain": [
              "3"
            ]
          },
          "metadata": {},
          "execution_count": 127
        }
      ]
    },
    {
      "cell_type": "code",
      "metadata": {
        "id": "ZsDlZO7OmJjn"
      },
      "source": [
        "df['pred_gene'] = results.argmax(axis=1)"
      ],
      "execution_count": null,
      "outputs": []
    },
    {
      "cell_type": "code",
      "metadata": {
        "colab": {
          "base_uri": "https://localhost:8080/",
          "height": 412
        },
        "id": "Rdpi5ERpmUXe",
        "outputId": "82d181e4-9087-49c3-c4c3-9b306c7d06a0"
      },
      "source": [
        "df"
      ],
      "execution_count": null,
      "outputs": [
        {
          "output_type": "execute_result",
          "data": {
            "text/html": [
              "<div>\n",
              "<style scoped>\n",
              "    .dataframe tbody tr th:only-of-type {\n",
              "        vertical-align: middle;\n",
              "    }\n",
              "\n",
              "    .dataframe tbody tr th {\n",
              "        vertical-align: top;\n",
              "    }\n",
              "\n",
              "    .dataframe thead th {\n",
              "        text-align: right;\n",
              "    }\n",
              "</style>\n",
              "<table border=\"1\" class=\"dataframe\">\n",
              "  <thead>\n",
              "    <tr style=\"text-align: right;\">\n",
              "      <th></th>\n",
              "      <th>count</th>\n",
              "      <th>location</th>\n",
              "      <th>gene</th>\n",
              "      <th>words</th>\n",
              "      <th>pred_gene</th>\n",
              "    </tr>\n",
              "  </thead>\n",
              "  <tbody>\n",
              "    <tr>\n",
              "      <th>0</th>\n",
              "      <td>106</td>\n",
              "      <td>1</td>\n",
              "      <td>3</td>\n",
              "      <td>[flpdlldtg, lpdlldtgf, pdlldtgfi, dlldtgfic, l...</td>\n",
              "      <td>3</td>\n",
              "    </tr>\n",
              "    <tr>\n",
              "      <th>1</th>\n",
              "      <td>37</td>\n",
              "      <td>2</td>\n",
              "      <td>0</td>\n",
              "      <td>[ffsfqnifl, fsfqniflp, sfqniflpl, fqniflplh, q...</td>\n",
              "      <td>1</td>\n",
              "    </tr>\n",
              "    <tr>\n",
              "      <th>2</th>\n",
              "      <td>22</td>\n",
              "      <td>1</td>\n",
              "      <td>3</td>\n",
              "      <td>[lpsliygeg, psliygegk, sliygegks, liygegkss, i...</td>\n",
              "      <td>0</td>\n",
              "    </tr>\n",
              "    <tr>\n",
              "      <th>3</th>\n",
              "      <td>19</td>\n",
              "      <td>2</td>\n",
              "      <td>0</td>\n",
              "      <td>[fgvvhilfn, gvvhilfnl, vvhilfnly, vhilfnlyi, h...</td>\n",
              "      <td>2</td>\n",
              "    </tr>\n",
              "    <tr>\n",
              "      <th>4</th>\n",
              "      <td>20</td>\n",
              "      <td>2</td>\n",
              "      <td>0</td>\n",
              "      <td>[fvrtipfvl, vrtipfvlq, rtipfvlqd, tipfvlqdf, i...</td>\n",
              "      <td>2</td>\n",
              "    </tr>\n",
              "    <tr>\n",
              "      <th>...</th>\n",
              "      <td>...</td>\n",
              "      <td>...</td>\n",
              "      <td>...</td>\n",
              "      <td>...</td>\n",
              "      <td>...</td>\n",
              "    </tr>\n",
              "    <tr>\n",
              "      <th>1754</th>\n",
              "      <td>45</td>\n",
              "      <td>1</td>\n",
              "      <td>3</td>\n",
              "      <td>[eqlhpslms, qlhpslmss, lhpslmssa, hpslmssap, p...</td>\n",
              "      <td>3</td>\n",
              "    </tr>\n",
              "    <tr>\n",
              "      <th>1755</th>\n",
              "      <td>55</td>\n",
              "      <td>2</td>\n",
              "      <td>0</td>\n",
              "      <td>[ellmgrhqi, llmgrhqis, lmgrhqish, mgrhqishv, g...</td>\n",
              "      <td>1</td>\n",
              "    </tr>\n",
              "    <tr>\n",
              "      <th>1756</th>\n",
              "      <td>44</td>\n",
              "      <td>2</td>\n",
              "      <td>0</td>\n",
              "      <td>[cgcvpiklh, gcvpiklhl, cvpiklhls, vpiklhlsk, p...</td>\n",
              "      <td>1</td>\n",
              "    </tr>\n",
              "    <tr>\n",
              "      <th>1757</th>\n",
              "      <td>17</td>\n",
              "      <td>2</td>\n",
              "      <td>0</td>\n",
              "      <td>[hlfffffgr, lfffffgra, fffffgral, ffffgrall, f...</td>\n",
              "      <td>0</td>\n",
              "    </tr>\n",
              "    <tr>\n",
              "      <th>1758</th>\n",
              "      <td>19</td>\n",
              "      <td>2</td>\n",
              "      <td>0</td>\n",
              "      <td>[ifpveliil, fpveliils, pveliilsl, veliilsly, e...</td>\n",
              "      <td>3</td>\n",
              "    </tr>\n",
              "  </tbody>\n",
              "</table>\n",
              "<p>1759 rows × 5 columns</p>\n",
              "</div>"
            ],
            "text/plain": [
              "      count  ...  pred_gene\n",
              "0       106  ...          3\n",
              "1        37  ...          1\n",
              "2        22  ...          0\n",
              "3        19  ...          2\n",
              "4        20  ...          2\n",
              "...     ...  ...        ...\n",
              "1754     45  ...          3\n",
              "1755     55  ...          1\n",
              "1756     44  ...          1\n",
              "1757     17  ...          0\n",
              "1758     19  ...          3\n",
              "\n",
              "[1759 rows x 5 columns]"
            ]
          },
          "metadata": {},
          "execution_count": 129
        }
      ]
    },
    {
      "cell_type": "code",
      "metadata": {
        "colab": {
          "base_uri": "https://localhost:8080/"
        },
        "id": "08Bmkd6Hm6sx",
        "outputId": "8f2a6622-e4d4-406d-cbb1-3cde2d13e0bb"
      },
      "source": [
        "from sklearn.metrics import accuracy_score,classification_report,confusion_matrix\n",
        "print(accuracy_score(df['gene'],df['pred_gene']))"
      ],
      "execution_count": null,
      "outputs": [
        {
          "output_type": "stream",
          "name": "stdout",
          "text": [
            "0.3536100056850483\n"
          ]
        }
      ]
    },
    {
      "cell_type": "code",
      "metadata": {
        "colab": {
          "base_uri": "https://localhost:8080/"
        },
        "id": "08-NsAI6nHOe",
        "outputId": "fbda5873-abf0-4b50-aa04-05d79828c99f"
      },
      "source": [
        "print(confusion_matrix(df['gene'],df['pred_gene']))"
      ],
      "execution_count": null,
      "outputs": [
        {
          "output_type": "stream",
          "name": "stdout",
          "text": [
            "[[560 309 305 326]\n",
            " [ 10   2   1   2]\n",
            " [  7   4   5   5]\n",
            " [ 84  40  44  55]]\n"
          ]
        }
      ]
    },
    {
      "cell_type": "code",
      "metadata": {
        "colab": {
          "base_uri": "https://localhost:8080/"
        },
        "id": "6K-iFwAonNZu",
        "outputId": "8990ff09-7d2a-4e20-97c5-9789c8f4d572"
      },
      "source": [
        "print(classification_report(df['gene'],df['pred_gene']))"
      ],
      "execution_count": null,
      "outputs": [
        {
          "output_type": "stream",
          "name": "stdout",
          "text": [
            "              precision    recall  f1-score   support\n",
            "\n",
            "           0       0.85      0.37      0.52      1500\n",
            "           1       0.01      0.13      0.01        15\n",
            "           2       0.01      0.24      0.03        21\n",
            "           3       0.14      0.25      0.18       223\n",
            "\n",
            "    accuracy                           0.35      1759\n",
            "   macro avg       0.25      0.25      0.18      1759\n",
            "weighted avg       0.74      0.35      0.47      1759\n",
            "\n"
          ]
        }
      ]
    },
    {
      "cell_type": "code",
      "metadata": {
        "colab": {
          "base_uri": "https://localhost:8080/",
          "height": 201
        },
        "id": "n9PM7JdSSHf0",
        "outputId": "964af50a-dc49-45da-93ab-6585f02ea7b4"
      },
      "source": [
        "df.head()"
      ],
      "execution_count": null,
      "outputs": [
        {
          "output_type": "execute_result",
          "data": {
            "text/html": [
              "<div>\n",
              "<style scoped>\n",
              "    .dataframe tbody tr th:only-of-type {\n",
              "        vertical-align: middle;\n",
              "    }\n",
              "\n",
              "    .dataframe tbody tr th {\n",
              "        vertical-align: top;\n",
              "    }\n",
              "\n",
              "    .dataframe thead th {\n",
              "        text-align: right;\n",
              "    }\n",
              "</style>\n",
              "<table border=\"1\" class=\"dataframe\">\n",
              "  <thead>\n",
              "    <tr style=\"text-align: right;\">\n",
              "      <th></th>\n",
              "      <th>count</th>\n",
              "      <th>location</th>\n",
              "      <th>gene</th>\n",
              "      <th>words</th>\n",
              "      <th>pred_gene</th>\n",
              "    </tr>\n",
              "  </thead>\n",
              "  <tbody>\n",
              "    <tr>\n",
              "      <th>0</th>\n",
              "      <td>106</td>\n",
              "      <td>1</td>\n",
              "      <td>3</td>\n",
              "      <td>[flpdlldtg, lpdlldtgf, pdlldtgfi, dlldtgfic, l...</td>\n",
              "      <td>3</td>\n",
              "    </tr>\n",
              "    <tr>\n",
              "      <th>1</th>\n",
              "      <td>37</td>\n",
              "      <td>2</td>\n",
              "      <td>0</td>\n",
              "      <td>[ffsfqnifl, fsfqniflp, sfqniflpl, fqniflplh, q...</td>\n",
              "      <td>1</td>\n",
              "    </tr>\n",
              "    <tr>\n",
              "      <th>2</th>\n",
              "      <td>22</td>\n",
              "      <td>1</td>\n",
              "      <td>3</td>\n",
              "      <td>[lpsliygeg, psliygegk, sliygegks, liygegkss, i...</td>\n",
              "      <td>0</td>\n",
              "    </tr>\n",
              "    <tr>\n",
              "      <th>3</th>\n",
              "      <td>19</td>\n",
              "      <td>2</td>\n",
              "      <td>0</td>\n",
              "      <td>[fgvvhilfn, gvvhilfnl, vvhilfnly, vhilfnlyi, h...</td>\n",
              "      <td>2</td>\n",
              "    </tr>\n",
              "    <tr>\n",
              "      <th>4</th>\n",
              "      <td>20</td>\n",
              "      <td>2</td>\n",
              "      <td>0</td>\n",
              "      <td>[fvrtipfvl, vrtipfvlq, rtipfvlqd, tipfvlqdf, i...</td>\n",
              "      <td>2</td>\n",
              "    </tr>\n",
              "  </tbody>\n",
              "</table>\n",
              "</div>"
            ],
            "text/plain": [
              "   count  ...  pred_gene\n",
              "0    106  ...          3\n",
              "1     37  ...          1\n",
              "2     22  ...          0\n",
              "3     19  ...          2\n",
              "4     20  ...          2\n",
              "\n",
              "[5 rows x 5 columns]"
            ]
          },
          "metadata": {},
          "execution_count": 133
        }
      ]
    },
    {
      "cell_type": "markdown",
      "metadata": {
        "id": "4WCFCRwvZ27U"
      },
      "source": [
        "**Probabilistic modelling"
      ]
    },
    {
      "cell_type": "code",
      "metadata": {
        "colab": {
          "base_uri": "https://localhost:8080/"
        },
        "id": "sI3RyWekKJIt",
        "outputId": "99d3deb3-d6a3-4e14-b768-7e8ab89a54ab"
      },
      "source": [
        "!pip install pgmpy"
      ],
      "execution_count": null,
      "outputs": [
        {
          "output_type": "stream",
          "name": "stdout",
          "text": [
            "Requirement already satisfied: pgmpy in /usr/local/lib/python3.7/dist-packages (0.1.15)\n",
            "Requirement already satisfied: tqdm in /usr/local/lib/python3.7/dist-packages (from pgmpy) (4.62.0)\n",
            "Requirement already satisfied: torch in /usr/local/lib/python3.7/dist-packages (from pgmpy) (1.9.0+cu102)\n",
            "Requirement already satisfied: pyparsing in /usr/local/lib/python3.7/dist-packages (from pgmpy) (2.4.7)\n",
            "Requirement already satisfied: scipy in /usr/local/lib/python3.7/dist-packages (from pgmpy) (1.4.1)\n",
            "Requirement already satisfied: scikit-learn in /usr/local/lib/python3.7/dist-packages (from pgmpy) (0.22.2.post1)\n",
            "Requirement already satisfied: pandas in /usr/local/lib/python3.7/dist-packages (from pgmpy) (1.1.5)\n",
            "Requirement already satisfied: statsmodels in /usr/local/lib/python3.7/dist-packages (from pgmpy) (0.10.2)\n",
            "Requirement already satisfied: numpy in /usr/local/lib/python3.7/dist-packages (from pgmpy) (1.19.5)\n",
            "Requirement already satisfied: joblib in /usr/local/lib/python3.7/dist-packages (from pgmpy) (1.0.1)\n",
            "Requirement already satisfied: networkx in /usr/local/lib/python3.7/dist-packages (from pgmpy) (2.6.2)\n",
            "Requirement already satisfied: pytz>=2017.2 in /usr/local/lib/python3.7/dist-packages (from pandas->pgmpy) (2018.9)\n",
            "Requirement already satisfied: python-dateutil>=2.7.3 in /usr/local/lib/python3.7/dist-packages (from pandas->pgmpy) (2.8.2)\n",
            "Requirement already satisfied: six>=1.5 in /usr/local/lib/python3.7/dist-packages (from python-dateutil>=2.7.3->pandas->pgmpy) (1.15.0)\n",
            "Requirement already satisfied: patsy>=0.4.0 in /usr/local/lib/python3.7/dist-packages (from statsmodels->pgmpy) (0.5.1)\n",
            "Requirement already satisfied: typing-extensions in /usr/local/lib/python3.7/dist-packages (from torch->pgmpy) (3.7.4.3)\n"
          ]
        }
      ]
    },
    {
      "cell_type": "code",
      "metadata": {
        "id": "ZwdG-ik4KZg1"
      },
      "source": [
        "df = pd.read_excel('aminoacids.xlsx')\n",
        "df = df.sample(frac=1).reset_index(drop=True)"
      ],
      "execution_count": null,
      "outputs": []
    },
    {
      "cell_type": "code",
      "metadata": {
        "colab": {
          "base_uri": "https://localhost:8080/"
        },
        "id": "lQKSoqu5Jwgp",
        "outputId": "0ed3315b-e390-4f19-b9b1-75a15b211470"
      },
      "source": [
        "from pgmpy.models import BayesianModel\n",
        "from pgmpy.estimators import ParameterEstimator\n",
        "model = BayesianModel([('gene','amino_acids')])\n",
        "pe = ParameterEstimator(model,df)\n",
        "print('\\n',pe.state_counts('gene'))\n",
        "print('\\n',pe.state_counts('amino_acids'))\n"
      ],
      "execution_count": null,
      "outputs": [
        {
          "output_type": "stream",
          "name": "stdout",
          "text": [
            "\n",
            "         gene\n",
            "SNCA    2711\n",
            "lrrk2     38\n",
            "parkin    34\n",
            "pink1    328\n",
            "\n",
            " gene                           SNCA lrrk2 parkin pink1\n",
            "amino_acids                                           \n",
            "A                               2.0   0.0    0.0   0.0\n",
            "AAASIPLITPVIKDGTISNEI           1.0   0.0    0.0   0.0\n",
            "AACLGLPKCWDYRHEPPCLATSLF        0.0   0.0    0.0   1.0\n",
            "AAFPP                           1.0   0.0    0.0   0.0\n",
            "AAIRILHSFGHLVLFFHDWCCLLLRHLPVM  1.0   0.0    0.0   0.0\n",
            "...                             ...   ...    ...   ...\n",
            "YWQNEVSILI                      1.0   0.0    0.0   0.0\n",
            "YY                              1.0   0.0    0.0   0.0\n",
            "YYDISKVGTFKR                    1.0   0.0    0.0   0.0\n",
            "YYLLILKKQFPLNSSH                1.0   0.0    0.0   0.0\n",
            "YYTQKDRR                        1.0   0.0    0.0   0.0\n",
            "\n",
            "[2862 rows x 4 columns]\n"
          ]
        }
      ]
    },
    {
      "cell_type": "code",
      "metadata": {
        "colab": {
          "base_uri": "https://localhost:8080/"
        },
        "id": "1jQOlCXRLfKL",
        "outputId": "6158c89a-a4a6-4e2f-9843-c71caaef9cf9"
      },
      "source": [
        "from pgmpy.estimators import MaximumLikelihoodEstimator\n",
        "mle = MaximumLikelihoodEstimator(model, df)\n",
        "print(mle.estimate_cpd('gene'))\n",
        "print(mle.estimate_cpd('amino_acids'))"
      ],
      "execution_count": null,
      "outputs": [
        {
          "output_type": "stream",
          "name": "stdout",
          "text": [
            "+--------------+-----------+\n",
            "| gene(SNCA)   | 0.871424  |\n",
            "+--------------+-----------+\n",
            "| gene(lrrk2)  | 0.0122147 |\n",
            "+--------------+-----------+\n",
            "| gene(parkin) | 0.010929  |\n",
            "+--------------+-----------+\n",
            "| gene(pink1)  | 0.105432  |\n",
            "+--------------+-----------+\n"
          ]
        },
        {
          "output_type": "stream",
          "name": "stderr",
          "text": [
            "IOPub data rate exceeded.\n",
            "The notebook server will temporarily stop sending output\n",
            "to the client in order to avoid crashing it.\n",
            "To change this limit, set the config variable\n",
            "`--NotebookApp.iopub_data_rate_limit`.\n",
            "\n",
            "Current values:\n",
            "NotebookApp.iopub_data_rate_limit=1000000.0 (bytes/sec)\n",
            "NotebookApp.rate_limit_window=3.0 (secs)\n",
            "\n"
          ]
        }
      ]
    },
    {
      "cell_type": "code",
      "metadata": {
        "colab": {
          "base_uri": "https://localhost:8080/"
        },
        "id": "fQMqcDs4K4jB",
        "outputId": "086f77f1-5516-455d-9e69-91dd6b5a47c7"
      },
      "source": [
        "from pgmpy.estimators import BayesianEstimator\n",
        "est = BayesianEstimator(model, df)\n",
        "\n",
        "print(est.estimate_cpd('gene', prior_type='BDeu', equivalent_sample_size=10))"
      ],
      "execution_count": null,
      "outputs": [
        {
          "output_type": "stream",
          "name": "stdout",
          "text": [
            "+--------------+-----------+\n",
            "| gene(SNCA)   | 0.869433  |\n",
            "+--------------+-----------+\n",
            "| gene(lrrk2)  | 0.0129766 |\n",
            "+--------------+-----------+\n",
            "| gene(parkin) | 0.011695  |\n",
            "+--------------+-----------+\n",
            "| gene(pink1)  | 0.105896  |\n",
            "+--------------+-----------+\n"
          ]
        }
      ]
    },
    {
      "cell_type": "code",
      "metadata": {
        "colab": {
          "base_uri": "https://localhost:8080/"
        },
        "id": "oKVyJDO1K93d",
        "outputId": "b2dc63ee-71ba-4641-f729-1239d6939931"
      },
      "source": [
        "from pgmpy.estimators import BDeuScore, K2Score, BicScore\n",
        "bdeu = BDeuScore(df, equivalent_sample_size=5)\n",
        "k2 = K2Score(df)\n",
        "bic = BicScore(df)\n",
        "k2, bic\n",
        "\n",
        "print(bdeu.score(model))\n",
        "print(k2.score(model))\n",
        "print(bic.score(model))\n"
      ],
      "execution_count": null,
      "outputs": [
        {
          "output_type": "stream",
          "name": "stdout",
          "text": [
            "-44075.5129101115\n",
            "-26905.53643722309\n",
            "-70903.96852717259\n"
          ]
        }
      ]
    },
    {
      "cell_type": "code",
      "metadata": {
        "id": "U68i_WdHo4FP"
      },
      "source": [
        ""
      ],
      "execution_count": null,
      "outputs": []
    }
  ]
}