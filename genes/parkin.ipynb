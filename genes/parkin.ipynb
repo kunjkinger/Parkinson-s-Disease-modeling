{
 "cells": [
  {
   "cell_type": "code",
   "execution_count": 1,
   "id": "0fd75911-fda2-4a1d-b484-a791cb1fd9e0",
   "metadata": {},
   "outputs": [
    {
     "data": {
      "application/vnd.jupyter.widget-view+json": {
       "model_id": "a8c19789593b472f8bcca01a288378ba",
       "version_major": 2,
       "version_minor": 0
      },
      "text/plain": []
     },
     "metadata": {},
     "output_type": "display_data"
    }
   ],
   "source": [
    "from Bio.Seq import Seq\n",
    "from Bio import SeqIO\n",
    "from collections import Counter\n",
    "from Bio.PDB import PDBParser\n",
    "import numpy as np\n",
    "import pandas as pd\n",
    "import re\n",
    "import matplotlib.pyplot as plt\n",
    "import seaborn as sns\n",
    "from sklearn.metrics import accuracy_score, precision_score, f1_score, recall_score,classification_report,confusion_matrix\n",
    "from statsmodels.tsa.stattools import adfuller\n",
    "from sklearn.preprocessing import MinMaxScaler\n",
    "import json\n",
    "import time\n",
    "import torch\n",
    "from torch import nn, optim\n",
    "from torch.utils.data import DataLoader, Dataset\n",
    "import nglview as nv"
   ]
  },
  {
   "cell_type": "code",
   "execution_count": 2,
   "id": "ff332cdf-f3e4-451b-9b22-6d8f463d8406",
   "metadata": {},
   "outputs": [
    {
     "name": "stdout",
     "output_type": "stream",
     "text": [
      "ID: AB009973.1\n",
      "Name: AB009973.1\n",
      "Description: AB009973.1 Homo sapiens parkin mRNA for Parkin, complete cds\n",
      "Number of features: 0\n",
      "Seq('TCCGGGAGGATTACCCAGGAGACCGCTGGTGGGAGGCGCGGCTGGCGCCGCTGC...AAA', SingleLetterAlphabet())\n"
     ]
    }
   ],
   "source": [
    "for record in SeqIO.parse('parkin.fasta','fasta'):\n",
    "    parkin = record\n",
    "    parkin_dna = record.seq\n",
    "print(parkin)"
   ]
  },
  {
   "cell_type": "code",
   "execution_count": 4,
   "id": "b7e919e8-9c52-474c-a2cc-6644e25e4f5c",
   "metadata": {},
   "outputs": [
    {
     "data": {
      "text/plain": [
       "2960"
      ]
     },
     "execution_count": 4,
     "metadata": {},
     "output_type": "execute_result"
    }
   ],
   "source": [
    "len(parkin)"
   ]
  },
  {
   "cell_type": "code",
   "execution_count": 5,
   "id": "5e7a1cb2-1ff5-42eb-a738-fddb406134d6",
   "metadata": {},
   "outputs": [
    {
     "data": {
      "text/plain": [
       "Seq('UCCGGGAGGAUUACCCAGGAGACCGCUGGUGGGAGGCGCGGCUGGCGCCGCUGC...AAA', RNAAlphabet())"
      ]
     },
     "execution_count": 5,
     "metadata": {},
     "output_type": "execute_result"
    }
   ],
   "source": [
    "mrna_parkin = parkin_dna.transcribe()\n",
    "mrna_parkin"
   ]
  },
  {
   "cell_type": "code",
   "execution_count": 6,
   "id": "14162838-61de-4de0-a3fd-ad1cd7b0ec0c",
   "metadata": {},
   "outputs": [
    {
     "name": "stderr",
     "output_type": "stream",
     "text": [
      "C:\\Users\\kunjk\\kunj\\lib\\site-packages\\Bio\\Seq.py:2859: BiopythonWarning: Partial codon, len(sequence) not a multiple of three. Explicitly trim the sequence or add trailing N before translation. This may become an error in future.\n",
      "  BiopythonWarning,\n"
     ]
    },
    {
     "data": {
      "text/plain": [
       "(986,\n",
       " Seq('SGRITQETAGGRRGWRRCAHGPVPGPQPPPTQ*P**CLSGSTPAMVSQWRSILT...*H*', HasStopCodon(ExtendedIUPACProtein(), '*')))"
      ]
     },
     "execution_count": 6,
     "metadata": {},
     "output_type": "execute_result"
    }
   ],
   "source": [
    "protein_parkin = mrna_parkin.translate()\n",
    "len(protein_parkin), protein_parkin"
   ]
  },
  {
   "cell_type": "code",
   "execution_count": 7,
   "id": "89d4cd48-0da4-4986-90fd-784025ac46a4",
   "metadata": {},
   "outputs": [
    {
     "data": {
      "text/plain": [
       "[Seq('SGRITQETAGGRRGWRRCAHGPVPGPQPPPTQ', HasStopCodon(ExtendedIUPACProtein(), '*')),\n",
       " Seq('P', HasStopCodon(ExtendedIUPACProtein(), '*')),\n",
       " Seq('', HasStopCodon(ExtendedIUPACProtein(), '*')),\n",
       " Seq('CLSGSTPAMVSQWRSILTPASSSSRRWLLSDRGFRLTSCV', HasStopCodon(ExtendedIUPACProtein(), '*')),\n",
       " Seq('FSQGRS', HasStopCodon(ExtendedIUPACProtein(), '*')),\n",
       " Seq('GMTGLCRIVTWISRALFTLCRDRGEKVKK', HasStopCodon(ExtendedIUPACProtein(), '*')),\n",
       " Seq('MQLEATTPETRREAVSGSPRA', HasStopCodon(ExtendedIUPACProtein(), '*')),\n",
       " Seq('LGWTSAAQSSQETLWGWLSFCTLTAGRTHHQLEVQQVDQSTTAFMCIAKAPVKE...RSP', HasStopCodon(ExtendedIUPACProtein(), '*')),\n",
       " Seq('PRVHLAGMMF', HasStopCodon(ExtendedIUPACProtein(), '*')),\n",
       " Seq('FQTG', HasStopCodon(ExtendedIUPACProtein(), '*')),\n",
       " Seq('VVNANPHTALGLVQNFSLNVEHTPPLTRKHQ', HasStopCodon(ExtendedIUPACProtein(), '*')),\n",
       " Seq('LCT', HasStopCodon(ExtendedIUPACProtein(), '*')),\n",
       " Seq('SQQIVGTSLALRAQTSGAPSWFSSATPAT', HasStopCodon(ExtendedIUPACProtein(), '*')),\n",
       " Seq('FA', HasStopCodon(ExtendedIUPACProtein(), '*')),\n",
       " Seq('TVSTYTV', HasStopCodon(ExtendedIUPACProtein(), '*')),\n",
       " Seq('QDSMIGSLFTTLNLATPCLVWLAVPTP', HasStopCodon(ExtendedIUPACProtein(), '*')),\n",
       " Seq('LKSSITSGFWEKSSTTGTSSMVQRSVSCRWGACYAPALAVERGCCRSLTRGKSP...ACT', HasStopCodon(ExtendedIUPACProtein(), '*')),\n",
       " Seq('SVRSPSAGSSGAGTVAASGTASAWGTTGSTCSQGGRAPHRHILGEHTQCLPSFS...SWL', HasStopCodon(ExtendedIUPACProtein(), '*')),\n",
       " Seq('Q', HasStopCodon(ExtendedIUPACProtein(), '*')),\n",
       " Seq('CSYLNFQKASIPKEPQAIVKNICLSLRIPSI', HasStopCodon(ExtendedIUPACProtein(), '*')),\n",
       " Seq('IALIEIPTMCKSTCHKVRNYES', HasStopCodon(ExtendedIUPACProtein(), '*')),\n",
       " Seq('FEC', HasStopCodon(ExtendedIUPACProtein(), '*')),\n",
       " Seq('MFELQGRNQVNVLSFPFMICNFRKKLFF', HasStopCodon(ExtendedIUPACProtein(), '*')),\n",
       " Seq('KYHQKIYSLILSIHFATWRFC', HasStopCodon(ExtendedIUPACProtein(), '*')),\n",
       " Seq('YIWLHCKFNR', HasStopCodon(ExtendedIUPACProtein(), '*')),\n",
       " Seq('SAYKGNTFRNDFKMIFNLNKSEHY', HasStopCodon(ExtendedIUPACProtein(), '*')),\n",
       " Seq('IRIFKEEPFQNYQNEDTPDSLHQKGLYPFGTPSLSNLQVPGSSAYQGFPRRDLLLGQ', HasStopCodon(ExtendedIUPACProtein(), '*')),\n",
       " Seq('TH', HasStopCodon(ExtendedIUPACProtein(), '*')),\n",
       " Seq('NIPYVDMDWISVQSNFQLFFQPFTTQSKD', HasStopCodon(ExtendedIUPACProtein(), '*')),\n",
       " Seq('QHCMRQTACSYPHYAEEKVQPLSFVLPVLSDFSGRS', HasStopCodon(ExtendedIUPACProtein(), '*')),\n",
       " Seq('T', HasStopCodon(ExtendedIUPACProtein(), '*')),\n",
       " Seq('LRA', HasStopCodon(ExtendedIUPACProtein(), '*')),\n",
       " Seq('VSLAHGGPFGFRDCKLLNRQQGFSF', HasStopCodon(ExtendedIUPACProtein(), '*')),\n",
       " Seq('M', HasStopCodon(ExtendedIUPACProtein(), '*')),\n",
       " Seq('H', HasStopCodon(ExtendedIUPACProtein(), '*')),\n",
       " Seq('', HasStopCodon(ExtendedIUPACProtein(), '*'))]"
      ]
     },
     "execution_count": 7,
     "metadata": {},
     "output_type": "execute_result"
    }
   ],
   "source": [
    "#finding all amino acids sequence before stop codon\n",
    "parkin_aa= protein_parkin.split('*')\n",
    "parkin_aa"
   ]
  },
  {
   "cell_type": "code",
   "execution_count": 9,
   "id": "807e8990-67a3-4caf-9981-45670a1974e5",
   "metadata": {},
   "outputs": [
    {
     "data": {
      "text/plain": [
       "['SGRITQETAGGRRGWRRCAHGPVPGPQPPPTQ',\n",
       " 'P',\n",
       " '',\n",
       " 'CLSGSTPAMVSQWRSILTPASSSSRRWLLSDRGFRLTSCV',\n",
       " 'FSQGRS',\n",
       " 'GMTGLCRIVTWISRALFTLCRDRGEKVKK',\n",
       " 'MQLEATTPETRREAVSGSPRA',\n",
       " 'LGWTSAAQSSQETLWGWLSFCTLTAGRTHHQLEVQQVDQSTTAFMCIAKAPVKECSRENSGYSAAPAGRQRSP',\n",
       " 'PRVHLAGMMF',\n",
       " 'FQTG',\n",
       " 'VVNANPHTALGLVQNFSLNVEHTPPLTRKHQ',\n",
       " 'LCT',\n",
       " 'SQQIVGTSLALRAQTSGAPSWFSSATPAT',\n",
       " 'FA',\n",
       " 'TVSTYTV',\n",
       " 'QDSMIGSLFTTLNLATPCLVWLAVPTP',\n",
       " 'LKSSITSGFWEKSSTTGTSSMVQRSVSCRWGACYAPALAVERGCCRSLTRGKSPAKGAMAWAVGLPSAGNVKKRTMKGSAVPYLKPQEQLLRPTESMKEPPSRLVGKQPPKKPSRKPPSPVPAAMYQWKKMEAACT',\n",
       " 'SVRSPSAGSSGAGTVAASGTASAWGTTGSTCSQGGRAPHRHILGEHTQCLPSFSNSLFKHTHTRARAHTHSSSFFQSPTTAKLQKKLLDPFHYVHEKQQSKITEEAPESLSVCPHKTAEPSATPPTGVLSLRMTQIPEHRFKCNPCICMGHSHLNSRQAESVAGERVLTFNILPFTFSKHHEDAIDKVFLCKMNCSGFSKLDSWL',\n",
       " 'Q',\n",
       " 'CSYLNFQKASIPKEPQAIVKNICLSLRIPSI',\n",
       " 'IALIEIPTMCKSTCHKVRNYES',\n",
       " 'FEC',\n",
       " 'MFELQGRNQVNVLSFPFMICNFRKKLFF',\n",
       " 'KYHQKIYSLILSIHFATWRFC',\n",
       " 'YIWLHCKFNR',\n",
       " 'SAYKGNTFRNDFKMIFNLNKSEHY',\n",
       " 'IRIFKEEPFQNYQNEDTPDSLHQKGLYPFGTPSLSNLQVPGSSAYQGFPRRDLLLGQ',\n",
       " 'TH',\n",
       " 'NIPYVDMDWISVQSNFQLFFQPFTTQSKD',\n",
       " 'QHCMRQTACSYPHYAEEKVQPLSFVLPVLSDFSGRS',\n",
       " 'T',\n",
       " 'LRA',\n",
       " 'VSLAHGGPFGFRDCKLLNRQQGFSF',\n",
       " 'M',\n",
       " 'H',\n",
       " '']"
      ]
     },
     "execution_count": 9,
     "metadata": {},
     "output_type": "execute_result"
    }
   ],
   "source": [
    "parkin_aa_string = [str(i) for i in parkin_aa]\n",
    "parkin_aa_string"
   ]
  },
  {
   "cell_type": "code",
   "execution_count": 12,
   "id": "8c3fc140-dee1-4346-b0ce-19dee3d3ec8a",
   "metadata": {},
   "outputs": [
    {
     "data": {
      "text/html": [
       "<div>\n",
       "<style scoped>\n",
       "    .dataframe tbody tr th:only-of-type {\n",
       "        vertical-align: middle;\n",
       "    }\n",
       "\n",
       "    .dataframe tbody tr th {\n",
       "        vertical-align: top;\n",
       "    }\n",
       "\n",
       "    .dataframe thead th {\n",
       "        text-align: right;\n",
       "    }\n",
       "</style>\n",
       "<table border=\"1\" class=\"dataframe\">\n",
       "  <thead>\n",
       "    <tr style=\"text-align: right;\">\n",
       "      <th></th>\n",
       "      <th>amino_acids</th>\n",
       "    </tr>\n",
       "  </thead>\n",
       "  <tbody>\n",
       "    <tr>\n",
       "      <th>0</th>\n",
       "      <td>SGRITQETAGGRRGWRRCAHGPVPGPQPPPTQ</td>\n",
       "    </tr>\n",
       "    <tr>\n",
       "      <th>1</th>\n",
       "      <td>P</td>\n",
       "    </tr>\n",
       "    <tr>\n",
       "      <th>2</th>\n",
       "      <td></td>\n",
       "    </tr>\n",
       "    <tr>\n",
       "      <th>3</th>\n",
       "      <td>CLSGSTPAMVSQWRSILTPASSSSRRWLLSDRGFRLTSCV</td>\n",
       "    </tr>\n",
       "    <tr>\n",
       "      <th>4</th>\n",
       "      <td>FSQGRS</td>\n",
       "    </tr>\n",
       "    <tr>\n",
       "      <th>5</th>\n",
       "      <td>GMTGLCRIVTWISRALFTLCRDRGEKVKK</td>\n",
       "    </tr>\n",
       "    <tr>\n",
       "      <th>6</th>\n",
       "      <td>MQLEATTPETRREAVSGSPRA</td>\n",
       "    </tr>\n",
       "    <tr>\n",
       "      <th>7</th>\n",
       "      <td>LGWTSAAQSSQETLWGWLSFCTLTAGRTHHQLEVQQVDQSTTAFMC...</td>\n",
       "    </tr>\n",
       "    <tr>\n",
       "      <th>8</th>\n",
       "      <td>PRVHLAGMMF</td>\n",
       "    </tr>\n",
       "    <tr>\n",
       "      <th>9</th>\n",
       "      <td>FQTG</td>\n",
       "    </tr>\n",
       "    <tr>\n",
       "      <th>10</th>\n",
       "      <td>VVNANPHTALGLVQNFSLNVEHTPPLTRKHQ</td>\n",
       "    </tr>\n",
       "    <tr>\n",
       "      <th>11</th>\n",
       "      <td>LCT</td>\n",
       "    </tr>\n",
       "    <tr>\n",
       "      <th>12</th>\n",
       "      <td>SQQIVGTSLALRAQTSGAPSWFSSATPAT</td>\n",
       "    </tr>\n",
       "    <tr>\n",
       "      <th>13</th>\n",
       "      <td>FA</td>\n",
       "    </tr>\n",
       "    <tr>\n",
       "      <th>14</th>\n",
       "      <td>TVSTYTV</td>\n",
       "    </tr>\n",
       "    <tr>\n",
       "      <th>15</th>\n",
       "      <td>QDSMIGSLFTTLNLATPCLVWLAVPTP</td>\n",
       "    </tr>\n",
       "    <tr>\n",
       "      <th>16</th>\n",
       "      <td>LKSSITSGFWEKSSTTGTSSMVQRSVSCRWGACYAPALAVERGCCR...</td>\n",
       "    </tr>\n",
       "    <tr>\n",
       "      <th>17</th>\n",
       "      <td>SVRSPSAGSSGAGTVAASGTASAWGTTGSTCSQGGRAPHRHILGEH...</td>\n",
       "    </tr>\n",
       "    <tr>\n",
       "      <th>18</th>\n",
       "      <td>Q</td>\n",
       "    </tr>\n",
       "    <tr>\n",
       "      <th>19</th>\n",
       "      <td>CSYLNFQKASIPKEPQAIVKNICLSLRIPSI</td>\n",
       "    </tr>\n",
       "    <tr>\n",
       "      <th>20</th>\n",
       "      <td>IALIEIPTMCKSTCHKVRNYES</td>\n",
       "    </tr>\n",
       "    <tr>\n",
       "      <th>21</th>\n",
       "      <td>FEC</td>\n",
       "    </tr>\n",
       "    <tr>\n",
       "      <th>22</th>\n",
       "      <td>MFELQGRNQVNVLSFPFMICNFRKKLFF</td>\n",
       "    </tr>\n",
       "    <tr>\n",
       "      <th>23</th>\n",
       "      <td>KYHQKIYSLILSIHFATWRFC</td>\n",
       "    </tr>\n",
       "    <tr>\n",
       "      <th>24</th>\n",
       "      <td>YIWLHCKFNR</td>\n",
       "    </tr>\n",
       "    <tr>\n",
       "      <th>25</th>\n",
       "      <td>SAYKGNTFRNDFKMIFNLNKSEHY</td>\n",
       "    </tr>\n",
       "    <tr>\n",
       "      <th>26</th>\n",
       "      <td>IRIFKEEPFQNYQNEDTPDSLHQKGLYPFGTPSLSNLQVPGSSAYQ...</td>\n",
       "    </tr>\n",
       "    <tr>\n",
       "      <th>27</th>\n",
       "      <td>TH</td>\n",
       "    </tr>\n",
       "    <tr>\n",
       "      <th>28</th>\n",
       "      <td>NIPYVDMDWISVQSNFQLFFQPFTTQSKD</td>\n",
       "    </tr>\n",
       "    <tr>\n",
       "      <th>29</th>\n",
       "      <td>QHCMRQTACSYPHYAEEKVQPLSFVLPVLSDFSGRS</td>\n",
       "    </tr>\n",
       "    <tr>\n",
       "      <th>30</th>\n",
       "      <td>T</td>\n",
       "    </tr>\n",
       "    <tr>\n",
       "      <th>31</th>\n",
       "      <td>LRA</td>\n",
       "    </tr>\n",
       "    <tr>\n",
       "      <th>32</th>\n",
       "      <td>VSLAHGGPFGFRDCKLLNRQQGFSF</td>\n",
       "    </tr>\n",
       "    <tr>\n",
       "      <th>33</th>\n",
       "      <td>M</td>\n",
       "    </tr>\n",
       "    <tr>\n",
       "      <th>34</th>\n",
       "      <td>H</td>\n",
       "    </tr>\n",
       "    <tr>\n",
       "      <th>35</th>\n",
       "      <td></td>\n",
       "    </tr>\n",
       "  </tbody>\n",
       "</table>\n",
       "</div>"
      ],
      "text/plain": [
       "                                          amino_acids\n",
       "0                    SGRITQETAGGRRGWRRCAHGPVPGPQPPPTQ\n",
       "1                                                   P\n",
       "2                                                    \n",
       "3            CLSGSTPAMVSQWRSILTPASSSSRRWLLSDRGFRLTSCV\n",
       "4                                              FSQGRS\n",
       "5                       GMTGLCRIVTWISRALFTLCRDRGEKVKK\n",
       "6                               MQLEATTPETRREAVSGSPRA\n",
       "7   LGWTSAAQSSQETLWGWLSFCTLTAGRTHHQLEVQQVDQSTTAFMC...\n",
       "8                                          PRVHLAGMMF\n",
       "9                                                FQTG\n",
       "10                    VVNANPHTALGLVQNFSLNVEHTPPLTRKHQ\n",
       "11                                                LCT\n",
       "12                      SQQIVGTSLALRAQTSGAPSWFSSATPAT\n",
       "13                                                 FA\n",
       "14                                            TVSTYTV\n",
       "15                        QDSMIGSLFTTLNLATPCLVWLAVPTP\n",
       "16  LKSSITSGFWEKSSTTGTSSMVQRSVSCRWGACYAPALAVERGCCR...\n",
       "17  SVRSPSAGSSGAGTVAASGTASAWGTTGSTCSQGGRAPHRHILGEH...\n",
       "18                                                  Q\n",
       "19                    CSYLNFQKASIPKEPQAIVKNICLSLRIPSI\n",
       "20                             IALIEIPTMCKSTCHKVRNYES\n",
       "21                                                FEC\n",
       "22                       MFELQGRNQVNVLSFPFMICNFRKKLFF\n",
       "23                              KYHQKIYSLILSIHFATWRFC\n",
       "24                                         YIWLHCKFNR\n",
       "25                           SAYKGNTFRNDFKMIFNLNKSEHY\n",
       "26  IRIFKEEPFQNYQNEDTPDSLHQKGLYPFGTPSLSNLQVPGSSAYQ...\n",
       "27                                                 TH\n",
       "28                      NIPYVDMDWISVQSNFQLFFQPFTTQSKD\n",
       "29               QHCMRQTACSYPHYAEEKVQPLSFVLPVLSDFSGRS\n",
       "30                                                  T\n",
       "31                                                LRA\n",
       "32                          VSLAHGGPFGFRDCKLLNRQQGFSF\n",
       "33                                                  M\n",
       "34                                                  H\n",
       "35                                                   "
      ]
     },
     "execution_count": 12,
     "metadata": {},
     "output_type": "execute_result"
    }
   ],
   "source": [
    "amino_parkin = pd.DataFrame({'amino_acids':parkin_aa_string})\n",
    "amino_parkin"
   ]
  },
  {
   "cell_type": "code",
   "execution_count": 13,
   "id": "a51ff2b3-12ea-4751-a009-49cbcb1a645d",
   "metadata": {},
   "outputs": [
    {
     "data": {
      "text/html": [
       "<div>\n",
       "<style scoped>\n",
       "    .dataframe tbody tr th:only-of-type {\n",
       "        vertical-align: middle;\n",
       "    }\n",
       "\n",
       "    .dataframe tbody tr th {\n",
       "        vertical-align: top;\n",
       "    }\n",
       "\n",
       "    .dataframe thead th {\n",
       "        text-align: right;\n",
       "    }\n",
       "</style>\n",
       "<table border=\"1\" class=\"dataframe\">\n",
       "  <thead>\n",
       "    <tr style=\"text-align: right;\">\n",
       "      <th></th>\n",
       "      <th>amino_acids</th>\n",
       "      <th>count</th>\n",
       "    </tr>\n",
       "  </thead>\n",
       "  <tbody>\n",
       "    <tr>\n",
       "      <th>0</th>\n",
       "      <td>SGRITQETAGGRRGWRRCAHGPVPGPQPPPTQ</td>\n",
       "      <td>32</td>\n",
       "    </tr>\n",
       "    <tr>\n",
       "      <th>1</th>\n",
       "      <td>P</td>\n",
       "      <td>1</td>\n",
       "    </tr>\n",
       "    <tr>\n",
       "      <th>2</th>\n",
       "      <td></td>\n",
       "      <td>0</td>\n",
       "    </tr>\n",
       "    <tr>\n",
       "      <th>3</th>\n",
       "      <td>CLSGSTPAMVSQWRSILTPASSSSRRWLLSDRGFRLTSCV</td>\n",
       "      <td>40</td>\n",
       "    </tr>\n",
       "    <tr>\n",
       "      <th>4</th>\n",
       "      <td>FSQGRS</td>\n",
       "      <td>6</td>\n",
       "    </tr>\n",
       "  </tbody>\n",
       "</table>\n",
       "</div>"
      ],
      "text/plain": [
       "                                amino_acids  count\n",
       "0          SGRITQETAGGRRGWRRCAHGPVPGPQPPPTQ     32\n",
       "1                                         P      1\n",
       "2                                                0\n",
       "3  CLSGSTPAMVSQWRSILTPASSSSRRWLLSDRGFRLTSCV     40\n",
       "4                                    FSQGRS      6"
      ]
     },
     "execution_count": 13,
     "metadata": {},
     "output_type": "execute_result"
    }
   ],
   "source": [
    "amino_parkin['count'] = amino_parkin['amino_acids'].str.len()\n",
    "amino_parkin.head()"
   ]
  },
  {
   "cell_type": "code",
   "execution_count": 23,
   "id": "ade9f65b-e2bf-4efc-853d-df41a951c9ef",
   "metadata": {},
   "outputs": [],
   "source": [
    "amino_parkin.to_csv('amino_parkin.csv',sep=',')"
   ]
  },
  {
   "cell_type": "code",
   "execution_count": 14,
   "id": "e551b311-0e9a-4442-8c7a-f09da07040ad",
   "metadata": {},
   "outputs": [
    {
     "data": {
      "text/html": [
       "<div>\n",
       "<style scoped>\n",
       "    .dataframe tbody tr th:only-of-type {\n",
       "        vertical-align: middle;\n",
       "    }\n",
       "\n",
       "    .dataframe tbody tr th {\n",
       "        vertical-align: top;\n",
       "    }\n",
       "\n",
       "    .dataframe thead th {\n",
       "        text-align: right;\n",
       "    }\n",
       "</style>\n",
       "<table border=\"1\" class=\"dataframe\">\n",
       "  <thead>\n",
       "    <tr style=\"text-align: right;\">\n",
       "      <th></th>\n",
       "      <th>amino_acids</th>\n",
       "      <th>count</th>\n",
       "    </tr>\n",
       "  </thead>\n",
       "  <tbody>\n",
       "    <tr>\n",
       "      <th>17</th>\n",
       "      <td>SVRSPSAGSSGAGTVAASGTASAWGTTGSTCSQGGRAPHRHILGEH...</td>\n",
       "      <td>205</td>\n",
       "    </tr>\n",
       "    <tr>\n",
       "      <th>16</th>\n",
       "      <td>LKSSITSGFWEKSSTTGTSSMVQRSVSCRWGACYAPALAVERGCCR...</td>\n",
       "      <td>136</td>\n",
       "    </tr>\n",
       "    <tr>\n",
       "      <th>7</th>\n",
       "      <td>LGWTSAAQSSQETLWGWLSFCTLTAGRTHHQLEVQQVDQSTTAFMC...</td>\n",
       "      <td>73</td>\n",
       "    </tr>\n",
       "    <tr>\n",
       "      <th>26</th>\n",
       "      <td>IRIFKEEPFQNYQNEDTPDSLHQKGLYPFGTPSLSNLQVPGSSAYQ...</td>\n",
       "      <td>57</td>\n",
       "    </tr>\n",
       "    <tr>\n",
       "      <th>3</th>\n",
       "      <td>CLSGSTPAMVSQWRSILTPASSSSRRWLLSDRGFRLTSCV</td>\n",
       "      <td>40</td>\n",
       "    </tr>\n",
       "    <tr>\n",
       "      <th>29</th>\n",
       "      <td>QHCMRQTACSYPHYAEEKVQPLSFVLPVLSDFSGRS</td>\n",
       "      <td>36</td>\n",
       "    </tr>\n",
       "    <tr>\n",
       "      <th>0</th>\n",
       "      <td>SGRITQETAGGRRGWRRCAHGPVPGPQPPPTQ</td>\n",
       "      <td>32</td>\n",
       "    </tr>\n",
       "    <tr>\n",
       "      <th>10</th>\n",
       "      <td>VVNANPHTALGLVQNFSLNVEHTPPLTRKHQ</td>\n",
       "      <td>31</td>\n",
       "    </tr>\n",
       "    <tr>\n",
       "      <th>19</th>\n",
       "      <td>CSYLNFQKASIPKEPQAIVKNICLSLRIPSI</td>\n",
       "      <td>31</td>\n",
       "    </tr>\n",
       "    <tr>\n",
       "      <th>5</th>\n",
       "      <td>GMTGLCRIVTWISRALFTLCRDRGEKVKK</td>\n",
       "      <td>29</td>\n",
       "    </tr>\n",
       "  </tbody>\n",
       "</table>\n",
       "</div>"
      ],
      "text/plain": [
       "                                          amino_acids  count\n",
       "17  SVRSPSAGSSGAGTVAASGTASAWGTTGSTCSQGGRAPHRHILGEH...    205\n",
       "16  LKSSITSGFWEKSSTTGTSSMVQRSVSCRWGACYAPALAVERGCCR...    136\n",
       "7   LGWTSAAQSSQETLWGWLSFCTLTAGRTHHQLEVQQVDQSTTAFMC...     73\n",
       "26  IRIFKEEPFQNYQNEDTPDSLHQKGLYPFGTPSLSNLQVPGSSAYQ...     57\n",
       "3            CLSGSTPAMVSQWRSILTPASSSSRRWLLSDRGFRLTSCV     40\n",
       "29               QHCMRQTACSYPHYAEEKVQPLSFVLPVLSDFSGRS     36\n",
       "0                    SGRITQETAGGRRGWRRCAHGPVPGPQPPPTQ     32\n",
       "10                    VVNANPHTALGLVQNFSLNVEHTPPLTRKHQ     31\n",
       "19                    CSYLNFQKASIPKEPQAIVKNICLSLRIPSI     31\n",
       "5                       GMTGLCRIVTWISRALFTLCRDRGEKVKK     29"
      ]
     },
     "execution_count": 14,
     "metadata": {},
     "output_type": "execute_result"
    }
   ],
   "source": [
    "#largest sequence before stop codon\n",
    "amino_parkin.nlargest(10,'count')\n"
   ]
  },
  {
   "cell_type": "code",
   "execution_count": null,
   "id": "7bd6881e-d8af-4764-9d3b-9ed020473871",
   "metadata": {},
   "outputs": [],
   "source": []
  },
  {
   "cell_type": "code",
   "execution_count": 15,
   "id": "eb55c140-b439-4fd3-b6d3-e55cd9a1fdf9",
   "metadata": {},
   "outputs": [
    {
     "data": {
      "text/plain": [
       "[('S', 106),\n",
       " ('L', 76),\n",
       " ('T', 72),\n",
       " ('A', 68),\n",
       " ('P', 68),\n",
       " ('G', 59),\n",
       " ('R', 58),\n",
       " ('Q', 54),\n",
       " ('F', 51),\n",
       " ('K', 51)]"
      ]
     },
     "execution_count": 15,
     "metadata": {},
     "output_type": "execute_result"
    }
   ],
   "source": [
    "#finding the most common amino acids in with the frequency available in the sequence\n",
    "Counter(protein_parkin).most_common(10)"
   ]
  },
  {
   "cell_type": "code",
   "execution_count": 16,
   "id": "800903c2-2392-4caa-9234-718d06cec23c",
   "metadata": {},
   "outputs": [
    {
     "name": "stdout",
     "output_type": "stream",
     "text": [
      "<class 'pandas.core.frame.DataFrame'>\n",
      "RangeIndex: 36 entries, 0 to 35\n",
      "Data columns (total 2 columns):\n",
      " #   Column       Non-Null Count  Dtype \n",
      "---  ------       --------------  ----- \n",
      " 0   amino_acids  36 non-null     object\n",
      " 1   count        36 non-null     int64 \n",
      "dtypes: int64(1), object(1)\n",
      "memory usage: 704.0+ bytes\n"
     ]
    }
   ],
   "source": [
    "amino_parkin.info()"
   ]
  },
  {
   "cell_type": "code",
   "execution_count": 17,
   "id": "2160cdaf-8a52-49d2-a311-2d9c1b6a8b28",
   "metadata": {},
   "outputs": [
    {
     "data": {
      "text/plain": [
       "amino_acids    0\n",
       "count          0\n",
       "dtype: int64"
      ]
     },
     "execution_count": 17,
     "metadata": {},
     "output_type": "execute_result"
    }
   ],
   "source": [
    "amino_parkin.isnull().sum()"
   ]
  },
  {
   "cell_type": "code",
   "execution_count": 18,
   "id": "a68e1e62-5faa-4542-834a-7a803e2ffec0",
   "metadata": {},
   "outputs": [
    {
     "name": "stderr",
     "output_type": "stream",
     "text": [
      "C:\\Users\\kunjk\\kunj\\lib\\site-packages\\seaborn\\distributions.py:2557: FutureWarning: `distplot` is a deprecated function and will be removed in a future version. Please adapt your code to use either `displot` (a figure-level function with similar flexibility) or `histplot` (an axes-level function for histograms).\n",
      "  warnings.warn(msg, FutureWarning)\n"
     ]
    },
    {
     "data": {
      "image/png": "[encoded data removed]",
      "text/plain": [
       "<Figure size 432x288 with 1 Axes>"
      ]
     },
     "metadata": {
      "image/png": {
       "height": 269,
       "width": 408
      }
     },
     "output_type": "display_data"
    }
   ],
   "source": [
    "%matplotlib inline\n",
    "%config InlineBackend.figure_format='retina'\n",
    "sns.set(style='whitegrid',palette='muted',font_scale=1.2)\n",
    "ax = sns.distplot(amino_parkin['count'].values)\n",
    "plt.title(f'sequence length distribution')\n",
    "plt.grid(True) \n",
    "#mostly data covered with in the range of 40"
   ]
  },
  {
   "cell_type": "code",
   "execution_count": null,
   "id": "c62d29d7-70da-4e36-8ea5-104ca51ddaa2",
   "metadata": {},
   "outputs": [],
   "source": []
  }
 ],
 "metadata": {
  "kernelspec": {
   "display_name": "Python 3",
   "language": "python",
   "name": "python3"
  },
  "language_info": {
   "codemirror_mode": {
    "name": "ipython",
    "version": 3
   },
   "file_extension": ".py",
   "mimetype": "text/x-python",
   "name": "python",
   "nbconvert_exporter": "python",
   "pygments_lexer": "ipython3",
   "version": "3.7.9"
  }
 },
 "nbformat": 4,
 "nbformat_minor": 5
}
